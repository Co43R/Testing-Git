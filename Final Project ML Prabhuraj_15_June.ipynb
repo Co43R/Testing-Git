{
 "cells": [
  {
   "cell_type": "markdown",
   "id": "180a8980-1c58-4e6f-8127-053379cef99a",
   "metadata": {},
   "source": [
    "# Ans for Q.1 :-  My Views On Problem Statement \n",
    "## Problem Statement\n",
    "\n",
    "#### Goal : To create a machine learning model to predict the salaries of newly hired employees at TechWorks Consulting. The model will take various features into account, such as education, experience, and location to ensure fair and competitive compensation.\n",
    "\n",
    "#### Company Background: TechWorks Consulting, a company specializing in IT talent recruitment, and highlights its unique approach to matching skilled IT professionals with job opportunities.\n",
    "\n",
    "#### Data Description: The Dataset conatins information about colleges, cities, roles, previous experience, and salary. This information will be used to train and test the predictive model.\n",
    "\n",
    "#### Regression Task: The primary objective is to perform a regression task, where the aim is to predict a continuous variable, specifically the salary of newly hired employees.\n",
    "\n",
    "#### Role of Statistics: The role of statistics is to build and check the accuracy of the model.\n",
    "\n",
    "#### Data Preprocessing: Data Preprocessing is most important task as it involves tasks like handling missing values, outliers, categorical variables, normalization, and feature selection."
   ]
  },
  {
   "cell_type": "markdown",
   "id": "ca359d0b-2bed-41c3-a822-d3e7465ba81f",
   "metadata": {},
   "source": [
    "### lets start with Project"
   ]
  },
  {
   "cell_type": "markdown",
   "id": "c635cf55-50b3-4a3a-8018-027e37c588c0",
   "metadata": {},
   "source": [
    "# Ans for Q.2 :-  My Approach To The Problem for solution :-"
   ]
  },
  {
   "cell_type": "markdown",
   "id": "a1aa152d-9a55-432d-b6ca-f890ae69ecc4",
   "metadata": {},
   "source": [
    "## Name of Project :- Salary Prediction Model\n",
    "\n",
    "### Data Understanding:\n",
    "#### Begin by thoroughly understanding the provided dataset, including its structure, columns, and the meaning of each variable. Gain insights into the data's distribution, summary statistics, and potential outliers.\n",
    "### Data Preprocessing:\n",
    "#### Handle Missing Values: Identify and address missing data by imputation or removal, ensuring that data is complete.\n",
    "\n",
    "#### Outlier Detection and Treatment: Detect and handle outliers in the dataset, which could impact the model's accuracy.\n",
    "\n",
    "#### Convert Categorical Data: Transform categorical variables (e.g., \"College\" and \"City\") into numerical format.\n",
    "\n",
    "#### Normalize Data: Normalize numerical features to bring them to a common scale to avoid any feature dominating the model.\n",
    "\n",
    "#### Feature Selection: Use statistical techniques such as Lasso, Ridge, or correlation analysis to select the most relevant features for salary prediction.\n",
    "\n",
    "#### Performing Exploratory Data Analysis (EDA)\n",
    "\n",
    "### Model Selection: \n",
    "\n",
    "#### Choose different regression models (e.g., Linear Regression, Multi Linear Regression) to build and evaluate the predictive models.\n",
    "\n",
    "#### Model Training and Evaluation: \n",
    "\n",
    "#### Split the dataset into training and testing sets to train the models and assess their performance.\n",
    "\n",
    "#### Using appropriate evaluation metrics like Mean Squared Error (MSE), R-squared, and Mean Absolute Error (MAE) to measure the model's accuracy.\n",
    "\n",
    "#### Experiment with different hyperparameters for each model and use cross-validation to avoid overfitting.\n",
    "\n",
    "### Model Comparison: \n",
    "\n",
    "#### Compare the performance of different models and select the one with the best accuracy and generalization.\n",
    "\n",
    "### Further Improvement:\n",
    "\n",
    "#### Consider additional techniques for model improvement, such as feature engineering, hyperparameter tuning, and ensemble methods."
   ]
  },
  {
   "cell_type": "markdown",
   "id": "cf6dfce0-e564-4f31-a033-4a3eb5cf4601",
   "metadata": {},
   "source": [
    "## Now lets start with our Data Preprocessing part "
   ]
  },
  {
   "cell_type": "code",
   "execution_count": null,
   "id": "ceb06b7b-366b-4563-800a-9945f307d07c",
   "metadata": {},
   "outputs": [],
   "source": []
  },
  {
   "cell_type": "code",
   "execution_count": 189,
   "id": "e9b7870d-6c0a-4897-9374-5030d74a1a4e",
   "metadata": {},
   "outputs": [],
   "source": [
    "# Import the pandas library for data manipulation and analysis\n",
    "# Import the numpy library for numerical operations and array processing\n",
    "# Import the seaborn library for data visualization\n",
    "\n",
    "import pandas as pd\n",
    "import numpy as np\n",
    "import seaborn as sns\n",
    "import matplotlib.pyplot as plt"
   ]
  },
  {
   "cell_type": "code",
   "execution_count": null,
   "id": "f560c7cc-3461-4aac-9c64-e577e7d1575b",
   "metadata": {},
   "outputs": [],
   "source": []
  },
  {
   "cell_type": "code",
   "execution_count": 190,
   "id": "15477f16-f2c7-4eeb-8f09-70ee5d1fb373",
   "metadata": {},
   "outputs": [],
   "source": [
    "# Read a CSV file into a DataFrame\n",
    "\n",
    "df=pd.read_csv(\"ML case Study.csv\")\n",
    "df1=pd.read_csv(\"Colleges.csv\")\n",
    "df2=pd.read_csv(\"cities.csv\")"
   ]
  },
  {
   "cell_type": "code",
   "execution_count": 191,
   "id": "63c1995f-9050-4d93-bad5-97a3eee0ff2f",
   "metadata": {},
   "outputs": [
    {
     "data": {
      "text/html": [
       "<div>\n",
       "<style scoped>\n",
       "    .dataframe tbody tr th:only-of-type {\n",
       "        vertical-align: middle;\n",
       "    }\n",
       "\n",
       "    .dataframe tbody tr th {\n",
       "        vertical-align: top;\n",
       "    }\n",
       "\n",
       "    .dataframe thead th {\n",
       "        text-align: right;\n",
       "    }\n",
       "</style>\n",
       "<table border=\"1\" class=\"dataframe\">\n",
       "  <thead>\n",
       "    <tr style=\"text-align: right;\">\n",
       "      <th></th>\n",
       "      <th>College</th>\n",
       "      <th>City</th>\n",
       "      <th>Role</th>\n",
       "      <th>Previous CTC</th>\n",
       "      <th>Previous job change</th>\n",
       "      <th>Graduation Marks</th>\n",
       "      <th>EXP (Month)</th>\n",
       "      <th>CTC</th>\n",
       "    </tr>\n",
       "  </thead>\n",
       "  <tbody>\n",
       "    <tr>\n",
       "      <th>0</th>\n",
       "      <td>SVNIT Surat</td>\n",
       "      <td>Asansol</td>\n",
       "      <td>Manager</td>\n",
       "      <td>55523.0</td>\n",
       "      <td>3</td>\n",
       "      <td>66</td>\n",
       "      <td>19</td>\n",
       "      <td>71406.58</td>\n",
       "    </tr>\n",
       "    <tr>\n",
       "      <th>1</th>\n",
       "      <td>NIT Bhopal</td>\n",
       "      <td>Ajmer</td>\n",
       "      <td>Executive</td>\n",
       "      <td>57081.0</td>\n",
       "      <td>1</td>\n",
       "      <td>84</td>\n",
       "      <td>18</td>\n",
       "      <td>68005.87</td>\n",
       "    </tr>\n",
       "    <tr>\n",
       "      <th>2</th>\n",
       "      <td>IEM, Kolkata</td>\n",
       "      <td>Rajpur Sonarpur</td>\n",
       "      <td>Executive</td>\n",
       "      <td>60347.0</td>\n",
       "      <td>2</td>\n",
       "      <td>52</td>\n",
       "      <td>28</td>\n",
       "      <td>76764.02</td>\n",
       "    </tr>\n",
       "    <tr>\n",
       "      <th>3</th>\n",
       "      <td>KIIT, Bhubaneswar</td>\n",
       "      <td>Ajmer</td>\n",
       "      <td>Executive</td>\n",
       "      <td>49010.0</td>\n",
       "      <td>2</td>\n",
       "      <td>81</td>\n",
       "      <td>33</td>\n",
       "      <td>82092.39</td>\n",
       "    </tr>\n",
       "    <tr>\n",
       "      <th>4</th>\n",
       "      <td>DTU</td>\n",
       "      <td>Durgapur</td>\n",
       "      <td>Executive</td>\n",
       "      <td>57879.0</td>\n",
       "      <td>4</td>\n",
       "      <td>74</td>\n",
       "      <td>32</td>\n",
       "      <td>73878.10</td>\n",
       "    </tr>\n",
       "  </tbody>\n",
       "</table>\n",
       "</div>"
      ],
      "text/plain": [
       "             College             City       Role  Previous CTC  \\\n",
       "0        SVNIT Surat          Asansol    Manager       55523.0   \n",
       "1         NIT Bhopal            Ajmer  Executive       57081.0   \n",
       "2       IEM, Kolkata  Rajpur Sonarpur  Executive       60347.0   \n",
       "3  KIIT, Bhubaneswar            Ajmer  Executive       49010.0   \n",
       "4                DTU         Durgapur  Executive       57879.0   \n",
       "\n",
       "   Previous job change  Graduation Marks  EXP (Month)       CTC  \n",
       "0                    3                66           19  71406.58  \n",
       "1                    1                84           18  68005.87  \n",
       "2                    2                52           28  76764.02  \n",
       "3                    2                81           33  82092.39  \n",
       "4                    4                74           32  73878.10  "
      ]
     },
     "execution_count": 191,
     "metadata": {},
     "output_type": "execute_result"
    }
   ],
   "source": [
    "df.head()\n"
   ]
  },
  {
   "cell_type": "code",
   "execution_count": 192,
   "id": "9bbd8b28-8de0-4208-9b88-518f266aed12",
   "metadata": {},
   "outputs": [
    {
     "data": {
      "text/html": [
       "<div>\n",
       "<style scoped>\n",
       "    .dataframe tbody tr th:only-of-type {\n",
       "        vertical-align: middle;\n",
       "    }\n",
       "\n",
       "    .dataframe tbody tr th {\n",
       "        vertical-align: top;\n",
       "    }\n",
       "\n",
       "    .dataframe thead th {\n",
       "        text-align: right;\n",
       "    }\n",
       "</style>\n",
       "<table border=\"1\" class=\"dataframe\">\n",
       "  <thead>\n",
       "    <tr style=\"text-align: right;\">\n",
       "      <th></th>\n",
       "      <th>Metrio City</th>\n",
       "      <th>non-metro cities</th>\n",
       "    </tr>\n",
       "  </thead>\n",
       "  <tbody>\n",
       "    <tr>\n",
       "      <th>0</th>\n",
       "      <td>Mumbai</td>\n",
       "      <td>Dehradun</td>\n",
       "    </tr>\n",
       "    <tr>\n",
       "      <th>1</th>\n",
       "      <td>Delhi</td>\n",
       "      <td>Durgapur</td>\n",
       "    </tr>\n",
       "    <tr>\n",
       "      <th>2</th>\n",
       "      <td>Kolkata</td>\n",
       "      <td>Asansol</td>\n",
       "    </tr>\n",
       "    <tr>\n",
       "      <th>3</th>\n",
       "      <td>Chennai</td>\n",
       "      <td>Rourkela</td>\n",
       "    </tr>\n",
       "    <tr>\n",
       "      <th>4</th>\n",
       "      <td>Bangalore</td>\n",
       "      <td>Kozhikode</td>\n",
       "    </tr>\n",
       "  </tbody>\n",
       "</table>\n",
       "</div>"
      ],
      "text/plain": [
       "  Metrio City non-metro cities\n",
       "0      Mumbai         Dehradun\n",
       "1       Delhi         Durgapur\n",
       "2     Kolkata          Asansol\n",
       "3     Chennai         Rourkela\n",
       "4   Bangalore        Kozhikode"
      ]
     },
     "execution_count": 192,
     "metadata": {},
     "output_type": "execute_result"
    }
   ],
   "source": [
    "df2.head()"
   ]
  },
  {
   "cell_type": "code",
   "execution_count": 193,
   "id": "5367cb6e-9d1c-4587-a7c5-ea404ad115c7",
   "metadata": {},
   "outputs": [
    {
     "data": {
      "text/html": [
       "<div>\n",
       "<style scoped>\n",
       "    .dataframe tbody tr th:only-of-type {\n",
       "        vertical-align: middle;\n",
       "    }\n",
       "\n",
       "    .dataframe tbody tr th {\n",
       "        vertical-align: top;\n",
       "    }\n",
       "\n",
       "    .dataframe thead th {\n",
       "        text-align: right;\n",
       "    }\n",
       "</style>\n",
       "<table border=\"1\" class=\"dataframe\">\n",
       "  <thead>\n",
       "    <tr style=\"text-align: right;\">\n",
       "      <th></th>\n",
       "      <th>Tier 1</th>\n",
       "      <th>Tier 2</th>\n",
       "      <th>Tier 3</th>\n",
       "    </tr>\n",
       "  </thead>\n",
       "  <tbody>\n",
       "    <tr>\n",
       "      <th>0</th>\n",
       "      <td>IIT Bombay</td>\n",
       "      <td>IIIT Bangalore</td>\n",
       "      <td>Ramaiah Institute of Technology, Bengaluru</td>\n",
       "    </tr>\n",
       "    <tr>\n",
       "      <th>1</th>\n",
       "      <td>IIT Delhi</td>\n",
       "      <td>IIIT Delhi</td>\n",
       "      <td>TIET/Thapar University</td>\n",
       "    </tr>\n",
       "    <tr>\n",
       "      <th>2</th>\n",
       "      <td>IIT Kharagpur</td>\n",
       "      <td>IGDTUW</td>\n",
       "      <td>Manipal Main Campus</td>\n",
       "    </tr>\n",
       "    <tr>\n",
       "      <th>3</th>\n",
       "      <td>IIT Madras</td>\n",
       "      <td>NIT Calicut</td>\n",
       "      <td>VIT Vellore</td>\n",
       "    </tr>\n",
       "    <tr>\n",
       "      <th>4</th>\n",
       "      <td>IIT Kanpur</td>\n",
       "      <td>IIITM Gwalior</td>\n",
       "      <td>SRM Main Campus</td>\n",
       "    </tr>\n",
       "  </tbody>\n",
       "</table>\n",
       "</div>"
      ],
      "text/plain": [
       "          Tier 1          Tier 2                                      Tier 3\n",
       "0     IIT Bombay  IIIT Bangalore  Ramaiah Institute of Technology, Bengaluru\n",
       "1      IIT Delhi      IIIT Delhi                      TIET/Thapar University\n",
       "2  IIT Kharagpur          IGDTUW                         Manipal Main Campus\n",
       "3     IIT Madras     NIT Calicut                                 VIT Vellore\n",
       "4     IIT Kanpur   IIITM Gwalior                             SRM Main Campus"
      ]
     },
     "execution_count": 193,
     "metadata": {},
     "output_type": "execute_result"
    }
   ],
   "source": [
    "df1.head()"
   ]
  },
  {
   "cell_type": "code",
   "execution_count": null,
   "id": "3746701e-3eaf-4b48-bd86-8f042865e31d",
   "metadata": {},
   "outputs": [],
   "source": []
  },
  {
   "cell_type": "code",
   "execution_count": 194,
   "id": "e3d9bf6d-9101-43b1-835d-28885a290006",
   "metadata": {},
   "outputs": [],
   "source": [
    "# Extract data from the \"Tier 1,\" \"Tier 2,\" and \"Tier 3\" columns of the 'college' DataFrame\n",
    "# and store them in separate lists 'Tier1,' 'Tier2,' and 'Tier3' for further analysis.\n",
    "\n",
    "Tier1 = df1[\"Tier 1\"].tolist()\n",
    "Tier2 = df1[\"Tier 2\"].tolist()\n",
    "Tier3 = df1[\"Tier 3\"].tolist()\n"
   ]
  },
  {
   "cell_type": "code",
   "execution_count": null,
   "id": "e2a34912-f5e6-4be2-8519-451deddac29b",
   "metadata": {},
   "outputs": [],
   "source": []
  },
  {
   "cell_type": "code",
   "execution_count": 195,
   "id": "38b66a94-84e3-41a2-913f-fcca055015c0",
   "metadata": {},
   "outputs": [
    {
     "name": "stderr",
     "output_type": "stream",
     "text": [
      "C:\\Users\\dell\\AppData\\Local\\Temp\\ipykernel_9396\\3926275420.py:11: FutureWarning: A value is trying to be set on a copy of a DataFrame or Series through chained assignment using an inplace method.\n",
      "The behavior will change in pandas 3.0. This inplace method will never work because the intermediate object on which we are setting values always behaves as a copy.\n",
      "\n",
      "For example, when doing 'df[col].method(value, inplace=True)', try using 'df.method({col: value}, inplace=True)' or df[col] = df[col].method(value) instead, to perform the operation inplace on the original object.\n",
      "\n",
      "\n",
      "  df[\"College\"].replace(item,2,inplace=True)\n",
      "C:\\Users\\dell\\AppData\\Local\\Temp\\ipykernel_9396\\3926275420.py:13: FutureWarning: A value is trying to be set on a copy of a DataFrame or Series through chained assignment using an inplace method.\n",
      "The behavior will change in pandas 3.0. This inplace method will never work because the intermediate object on which we are setting values always behaves as a copy.\n",
      "\n",
      "For example, when doing 'df[col].method(value, inplace=True)', try using 'df.method({col: value}, inplace=True)' or df[col] = df[col].method(value) instead, to perform the operation inplace on the original object.\n",
      "\n",
      "\n",
      "  df[\"College\"].replace(item,1,inplace=True)\n",
      "C:\\Users\\dell\\AppData\\Local\\Temp\\ipykernel_9396\\3926275420.py:9: FutureWarning: A value is trying to be set on a copy of a DataFrame or Series through chained assignment using an inplace method.\n",
      "The behavior will change in pandas 3.0. This inplace method will never work because the intermediate object on which we are setting values always behaves as a copy.\n",
      "\n",
      "For example, when doing 'df[col].method(value, inplace=True)', try using 'df.method({col: value}, inplace=True)' or df[col] = df[col].method(value) instead, to perform the operation inplace on the original object.\n",
      "\n",
      "\n",
      "  df[\"College\"].replace(item,3,inplace=True)\n",
      "C:\\Users\\dell\\AppData\\Local\\Temp\\ipykernel_9396\\3926275420.py:11: FutureWarning: Downcasting behavior in `replace` is deprecated and will be removed in a future version. To retain the old behavior, explicitly call `result.infer_objects(copy=False)`. To opt-in to the future behavior, set `pd.set_option('future.no_silent_downcasting', True)`\n",
      "  df[\"College\"].replace(item,2,inplace=True)\n"
     ]
    }
   ],
   "source": [
    "# Assign tier values to colleges in the DataFrame based on their tier classification\n",
    "# - If a college is in 'Tier1', set its value to 3\n",
    "# - If a college is in 'Tier2', set its value to 2\n",
    "# - If a college is in 'Tier3', set its value to 1\n",
    "# Tier1 college get value of 3 and tier 3 of 1 because tier1 college has higher weightage then 2 and 3.\n",
    "\n",
    "for item in df.College:\n",
    "    if item in Tier1:\n",
    "        df[\"College\"].replace(item,3,inplace=True)\n",
    "    elif item in Tier2:\n",
    "        df[\"College\"].replace(item,2,inplace=True)\n",
    "    elif item in Tier3:\n",
    "        df[\"College\"].replace(item,1,inplace=True)"
   ]
  },
  {
   "cell_type": "code",
   "execution_count": null,
   "id": "fb740ace-12d4-49b3-8081-8a981c058ad9",
   "metadata": {},
   "outputs": [],
   "source": []
  },
  {
   "cell_type": "code",
   "execution_count": 196,
   "id": "641b482d-b57e-4f4e-ad87-412502d9fad3",
   "metadata": {},
   "outputs": [],
   "source": [
    "# Extracting lists of metropolitan and non-metropolitan cities from the 'cities' DataFrame\n",
    "\n",
    "metro = df2['Metrio City'].tolist()\n",
    "non_metro_cities = df2['non-metro cities'].tolist()"
   ]
  },
  {
   "cell_type": "code",
   "execution_count": null,
   "id": "0bc5723e-76ed-447b-99e9-a36efa1442d8",
   "metadata": {},
   "outputs": [],
   "source": []
  },
  {
   "cell_type": "code",
   "execution_count": 197,
   "id": "0fc97de1-1e78-43d9-9387-fb0a39830253",
   "metadata": {},
   "outputs": [
    {
     "name": "stderr",
     "output_type": "stream",
     "text": [
      "C:\\Users\\dell\\AppData\\Local\\Temp\\ipykernel_9396\\2011105457.py:7: FutureWarning: A value is trying to be set on a copy of a DataFrame or Series through chained assignment using an inplace method.\n",
      "The behavior will change in pandas 3.0. This inplace method will never work because the intermediate object on which we are setting values always behaves as a copy.\n",
      "\n",
      "For example, when doing 'df[col].method(value, inplace=True)', try using 'df.method({col: value}, inplace=True)' or df[col] = df[col].method(value) instead, to perform the operation inplace on the original object.\n",
      "\n",
      "\n",
      "  df['City'].replace(item,0,inplace=True)\n",
      "C:\\Users\\dell\\AppData\\Local\\Temp\\ipykernel_9396\\2011105457.py:5: FutureWarning: A value is trying to be set on a copy of a DataFrame or Series through chained assignment using an inplace method.\n",
      "The behavior will change in pandas 3.0. This inplace method will never work because the intermediate object on which we are setting values always behaves as a copy.\n",
      "\n",
      "For example, when doing 'df[col].method(value, inplace=True)', try using 'df.method({col: value}, inplace=True)' or df[col] = df[col].method(value) instead, to perform the operation inplace on the original object.\n",
      "\n",
      "\n",
      "  df['City'].replace(item,1,inplace=True)\n",
      "C:\\Users\\dell\\AppData\\Local\\Temp\\ipykernel_9396\\2011105457.py:7: FutureWarning: Downcasting behavior in `replace` is deprecated and will be removed in a future version. To retain the old behavior, explicitly call `result.infer_objects(copy=False)`. To opt-in to the future behavior, set `pd.set_option('future.no_silent_downcasting', True)`\n",
      "  df['City'].replace(item,0,inplace=True)\n"
     ]
    }
   ],
   "source": [
    "# Repeating previpus steps and assigning value as 1 if city is merto and 0 if non metro\n",
    "\n",
    "for item in df.City:\n",
    "    if item in metro:\n",
    "        df['City'].replace(item,1,inplace=True)\n",
    "    elif item in non_metro_cities:\n",
    "        df['City'].replace(item,0,inplace=True)"
   ]
  },
  {
   "cell_type": "code",
   "execution_count": 198,
   "id": "0a792bd8-cf06-43ca-8c40-abf25b49e15d",
   "metadata": {},
   "outputs": [
    {
     "data": {
      "text/html": [
       "<div>\n",
       "<style scoped>\n",
       "    .dataframe tbody tr th:only-of-type {\n",
       "        vertical-align: middle;\n",
       "    }\n",
       "\n",
       "    .dataframe tbody tr th {\n",
       "        vertical-align: top;\n",
       "    }\n",
       "\n",
       "    .dataframe thead th {\n",
       "        text-align: right;\n",
       "    }\n",
       "</style>\n",
       "<table border=\"1\" class=\"dataframe\">\n",
       "  <thead>\n",
       "    <tr style=\"text-align: right;\">\n",
       "      <th></th>\n",
       "      <th>College</th>\n",
       "      <th>City</th>\n",
       "      <th>Role</th>\n",
       "      <th>Previous CTC</th>\n",
       "      <th>Previous job change</th>\n",
       "      <th>Graduation Marks</th>\n",
       "      <th>EXP (Month)</th>\n",
       "      <th>CTC</th>\n",
       "    </tr>\n",
       "  </thead>\n",
       "  <tbody>\n",
       "    <tr>\n",
       "      <th>0</th>\n",
       "      <td>2</td>\n",
       "      <td>0</td>\n",
       "      <td>Manager</td>\n",
       "      <td>55523.0</td>\n",
       "      <td>3</td>\n",
       "      <td>66</td>\n",
       "      <td>19</td>\n",
       "      <td>71406.58</td>\n",
       "    </tr>\n",
       "    <tr>\n",
       "      <th>1</th>\n",
       "      <td>2</td>\n",
       "      <td>0</td>\n",
       "      <td>Executive</td>\n",
       "      <td>57081.0</td>\n",
       "      <td>1</td>\n",
       "      <td>84</td>\n",
       "      <td>18</td>\n",
       "      <td>68005.87</td>\n",
       "    </tr>\n",
       "    <tr>\n",
       "      <th>2</th>\n",
       "      <td>1</td>\n",
       "      <td>0</td>\n",
       "      <td>Executive</td>\n",
       "      <td>60347.0</td>\n",
       "      <td>2</td>\n",
       "      <td>52</td>\n",
       "      <td>28</td>\n",
       "      <td>76764.02</td>\n",
       "    </tr>\n",
       "    <tr>\n",
       "      <th>3</th>\n",
       "      <td>1</td>\n",
       "      <td>0</td>\n",
       "      <td>Executive</td>\n",
       "      <td>49010.0</td>\n",
       "      <td>2</td>\n",
       "      <td>81</td>\n",
       "      <td>33</td>\n",
       "      <td>82092.39</td>\n",
       "    </tr>\n",
       "    <tr>\n",
       "      <th>4</th>\n",
       "      <td>3</td>\n",
       "      <td>0</td>\n",
       "      <td>Executive</td>\n",
       "      <td>57879.0</td>\n",
       "      <td>4</td>\n",
       "      <td>74</td>\n",
       "      <td>32</td>\n",
       "      <td>73878.10</td>\n",
       "    </tr>\n",
       "  </tbody>\n",
       "</table>\n",
       "</div>"
      ],
      "text/plain": [
       "   College  City       Role  Previous CTC  Previous job change  \\\n",
       "0        2     0    Manager       55523.0                    3   \n",
       "1        2     0  Executive       57081.0                    1   \n",
       "2        1     0  Executive       60347.0                    2   \n",
       "3        1     0  Executive       49010.0                    2   \n",
       "4        3     0  Executive       57879.0                    4   \n",
       "\n",
       "   Graduation Marks  EXP (Month)       CTC  \n",
       "0                66           19  71406.58  \n",
       "1                84           18  68005.87  \n",
       "2                52           28  76764.02  \n",
       "3                81           33  82092.39  \n",
       "4                74           32  73878.10  "
      ]
     },
     "execution_count": 198,
     "metadata": {},
     "output_type": "execute_result"
    }
   ],
   "source": [
    "df.head()"
   ]
  },
  {
   "cell_type": "code",
   "execution_count": 199,
   "id": "62ce86b4-b2ad-4866-8162-959d1502a614",
   "metadata": {},
   "outputs": [],
   "source": [
    "# Converting Categorical column 'Role' into numerical\n",
    "\n",
    "df = pd.get_dummies(df, columns=['Role'],drop_first=True).astype(int)"
   ]
  },
  {
   "cell_type": "code",
   "execution_count": 200,
   "id": "e4f873e3-046d-4505-925d-028339ccf153",
   "metadata": {},
   "outputs": [
    {
     "data": {
      "text/html": [
       "<div>\n",
       "<style scoped>\n",
       "    .dataframe tbody tr th:only-of-type {\n",
       "        vertical-align: middle;\n",
       "    }\n",
       "\n",
       "    .dataframe tbody tr th {\n",
       "        vertical-align: top;\n",
       "    }\n",
       "\n",
       "    .dataframe thead th {\n",
       "        text-align: right;\n",
       "    }\n",
       "</style>\n",
       "<table border=\"1\" class=\"dataframe\">\n",
       "  <thead>\n",
       "    <tr style=\"text-align: right;\">\n",
       "      <th></th>\n",
       "      <th>College</th>\n",
       "      <th>City</th>\n",
       "      <th>Previous CTC</th>\n",
       "      <th>Previous job change</th>\n",
       "      <th>Graduation Marks</th>\n",
       "      <th>EXP (Month)</th>\n",
       "      <th>CTC</th>\n",
       "      <th>Role_Manager</th>\n",
       "    </tr>\n",
       "  </thead>\n",
       "  <tbody>\n",
       "    <tr>\n",
       "      <th>247</th>\n",
       "      <td>1</td>\n",
       "      <td>1</td>\n",
       "      <td>63140</td>\n",
       "      <td>1</td>\n",
       "      <td>44</td>\n",
       "      <td>24</td>\n",
       "      <td>68416</td>\n",
       "      <td>0</td>\n",
       "    </tr>\n",
       "    <tr>\n",
       "      <th>1116</th>\n",
       "      <td>2</td>\n",
       "      <td>0</td>\n",
       "      <td>57597</td>\n",
       "      <td>2</td>\n",
       "      <td>52</td>\n",
       "      <td>41</td>\n",
       "      <td>68679</td>\n",
       "      <td>0</td>\n",
       "    </tr>\n",
       "    <tr>\n",
       "      <th>292</th>\n",
       "      <td>1</td>\n",
       "      <td>0</td>\n",
       "      <td>74198</td>\n",
       "      <td>1</td>\n",
       "      <td>57</td>\n",
       "      <td>25</td>\n",
       "      <td>99644</td>\n",
       "      <td>1</td>\n",
       "    </tr>\n",
       "    <tr>\n",
       "      <th>1464</th>\n",
       "      <td>1</td>\n",
       "      <td>0</td>\n",
       "      <td>56204</td>\n",
       "      <td>2</td>\n",
       "      <td>65</td>\n",
       "      <td>19</td>\n",
       "      <td>82667</td>\n",
       "      <td>1</td>\n",
       "    </tr>\n",
       "    <tr>\n",
       "      <th>41</th>\n",
       "      <td>1</td>\n",
       "      <td>0</td>\n",
       "      <td>66101</td>\n",
       "      <td>4</td>\n",
       "      <td>81</td>\n",
       "      <td>31</td>\n",
       "      <td>55470</td>\n",
       "      <td>0</td>\n",
       "    </tr>\n",
       "  </tbody>\n",
       "</table>\n",
       "</div>"
      ],
      "text/plain": [
       "      College  City  Previous CTC  Previous job change  Graduation Marks  \\\n",
       "247         1     1         63140                    1                44   \n",
       "1116        2     0         57597                    2                52   \n",
       "292         1     0         74198                    1                57   \n",
       "1464        1     0         56204                    2                65   \n",
       "41          1     0         66101                    4                81   \n",
       "\n",
       "      EXP (Month)    CTC  Role_Manager  \n",
       "247            24  68416             0  \n",
       "1116           41  68679             0  \n",
       "292            25  99644             1  \n",
       "1464           19  82667             1  \n",
       "41             31  55470             0  "
      ]
     },
     "execution_count": 200,
     "metadata": {},
     "output_type": "execute_result"
    }
   ],
   "source": [
    "df.sample(5)"
   ]
  },
  {
   "cell_type": "code",
   "execution_count": 201,
   "id": "aa066630-a158-425a-b55b-26d358890af6",
   "metadata": {},
   "outputs": [
    {
     "data": {
      "text/plain": [
       "College                0\n",
       "City                   0\n",
       "Previous CTC           0\n",
       "Previous job change    0\n",
       "Graduation Marks       0\n",
       "EXP (Month)            0\n",
       "CTC                    0\n",
       "Role_Manager           0\n",
       "dtype: int64"
      ]
     },
     "execution_count": 201,
     "metadata": {},
     "output_type": "execute_result"
    }
   ],
   "source": [
    "# Checking missing values in data\n",
    "\n",
    "df.isna().sum()"
   ]
  },
  {
   "cell_type": "code",
   "execution_count": 202,
   "id": "e1542b80-5390-4890-90ac-e8eceb6909e4",
   "metadata": {},
   "outputs": [
    {
     "name": "stdout",
     "output_type": "stream",
     "text": [
      "<class 'pandas.core.frame.DataFrame'>\n",
      "RangeIndex: 1589 entries, 0 to 1588\n",
      "Data columns (total 8 columns):\n",
      " #   Column               Non-Null Count  Dtype\n",
      "---  ------               --------------  -----\n",
      " 0   College              1589 non-null   int32\n",
      " 1   City                 1589 non-null   int32\n",
      " 2   Previous CTC         1589 non-null   int32\n",
      " 3   Previous job change  1589 non-null   int32\n",
      " 4   Graduation Marks     1589 non-null   int32\n",
      " 5   EXP (Month)          1589 non-null   int32\n",
      " 6   CTC                  1589 non-null   int32\n",
      " 7   Role_Manager         1589 non-null   int32\n",
      "dtypes: int32(8)\n",
      "memory usage: 49.8 KB\n"
     ]
    }
   ],
   "source": [
    "# Information about data\n",
    "df.info()"
   ]
  },
  {
   "cell_type": "code",
   "execution_count": 203,
   "id": "4e92a287-04b9-4f13-a8ec-bf50ef3cb319",
   "metadata": {},
   "outputs": [
    {
     "data": {
      "text/html": [
       "<div>\n",
       "<style scoped>\n",
       "    .dataframe tbody tr th:only-of-type {\n",
       "        vertical-align: middle;\n",
       "    }\n",
       "\n",
       "    .dataframe tbody tr th {\n",
       "        vertical-align: top;\n",
       "    }\n",
       "\n",
       "    .dataframe thead th {\n",
       "        text-align: right;\n",
       "    }\n",
       "</style>\n",
       "<table border=\"1\" class=\"dataframe\">\n",
       "  <thead>\n",
       "    <tr style=\"text-align: right;\">\n",
       "      <th></th>\n",
       "      <th>College</th>\n",
       "      <th>City</th>\n",
       "      <th>Previous CTC</th>\n",
       "      <th>Previous job change</th>\n",
       "      <th>Graduation Marks</th>\n",
       "      <th>EXP (Month)</th>\n",
       "      <th>CTC</th>\n",
       "      <th>Role_Manager</th>\n",
       "    </tr>\n",
       "  </thead>\n",
       "  <tbody>\n",
       "    <tr>\n",
       "      <th>count</th>\n",
       "      <td>1589.000000</td>\n",
       "      <td>1589.000000</td>\n",
       "      <td>1589.000000</td>\n",
       "      <td>1589.000000</td>\n",
       "      <td>1589.000000</td>\n",
       "      <td>1589.000000</td>\n",
       "      <td>1589.000000</td>\n",
       "      <td>1589.000000</td>\n",
       "    </tr>\n",
       "    <tr>\n",
       "      <th>mean</th>\n",
       "      <td>2.024544</td>\n",
       "      <td>0.514160</td>\n",
       "      <td>55518.453744</td>\n",
       "      <td>2.528634</td>\n",
       "      <td>59.855255</td>\n",
       "      <td>39.044682</td>\n",
       "      <td>75352.790434</td>\n",
       "      <td>0.206419</td>\n",
       "    </tr>\n",
       "    <tr>\n",
       "      <th>std</th>\n",
       "      <td>0.838330</td>\n",
       "      <td>0.499957</td>\n",
       "      <td>6655.218445</td>\n",
       "      <td>1.123918</td>\n",
       "      <td>14.935139</td>\n",
       "      <td>14.108875</td>\n",
       "      <td>12587.293679</td>\n",
       "      <td>0.404862</td>\n",
       "    </tr>\n",
       "    <tr>\n",
       "      <th>min</th>\n",
       "      <td>1.000000</td>\n",
       "      <td>0.000000</td>\n",
       "      <td>36990.000000</td>\n",
       "      <td>1.000000</td>\n",
       "      <td>35.000000</td>\n",
       "      <td>18.000000</td>\n",
       "      <td>53020.000000</td>\n",
       "      <td>0.000000</td>\n",
       "    </tr>\n",
       "    <tr>\n",
       "      <th>25%</th>\n",
       "      <td>1.000000</td>\n",
       "      <td>0.000000</td>\n",
       "      <td>50518.000000</td>\n",
       "      <td>2.000000</td>\n",
       "      <td>46.000000</td>\n",
       "      <td>26.000000</td>\n",
       "      <td>66902.000000</td>\n",
       "      <td>0.000000</td>\n",
       "    </tr>\n",
       "    <tr>\n",
       "      <th>50%</th>\n",
       "      <td>2.000000</td>\n",
       "      <td>1.000000</td>\n",
       "      <td>55291.000000</td>\n",
       "      <td>3.000000</td>\n",
       "      <td>60.000000</td>\n",
       "      <td>39.000000</td>\n",
       "      <td>73028.000000</td>\n",
       "      <td>0.000000</td>\n",
       "    </tr>\n",
       "    <tr>\n",
       "      <th>75%</th>\n",
       "      <td>3.000000</td>\n",
       "      <td>1.000000</td>\n",
       "      <td>60109.000000</td>\n",
       "      <td>4.000000</td>\n",
       "      <td>73.000000</td>\n",
       "      <td>51.000000</td>\n",
       "      <td>80588.000000</td>\n",
       "      <td>0.000000</td>\n",
       "    </tr>\n",
       "    <tr>\n",
       "      <th>max</th>\n",
       "      <td>3.000000</td>\n",
       "      <td>1.000000</td>\n",
       "      <td>77911.000000</td>\n",
       "      <td>4.000000</td>\n",
       "      <td>85.000000</td>\n",
       "      <td>64.000000</td>\n",
       "      <td>123416.000000</td>\n",
       "      <td>1.000000</td>\n",
       "    </tr>\n",
       "  </tbody>\n",
       "</table>\n",
       "</div>"
      ],
      "text/plain": [
       "           College         City  Previous CTC  Previous job change  \\\n",
       "count  1589.000000  1589.000000   1589.000000          1589.000000   \n",
       "mean      2.024544     0.514160  55518.453744             2.528634   \n",
       "std       0.838330     0.499957   6655.218445             1.123918   \n",
       "min       1.000000     0.000000  36990.000000             1.000000   \n",
       "25%       1.000000     0.000000  50518.000000             2.000000   \n",
       "50%       2.000000     1.000000  55291.000000             3.000000   \n",
       "75%       3.000000     1.000000  60109.000000             4.000000   \n",
       "max       3.000000     1.000000  77911.000000             4.000000   \n",
       "\n",
       "       Graduation Marks  EXP (Month)            CTC  Role_Manager  \n",
       "count       1589.000000  1589.000000    1589.000000   1589.000000  \n",
       "mean          59.855255    39.044682   75352.790434      0.206419  \n",
       "std           14.935139    14.108875   12587.293679      0.404862  \n",
       "min           35.000000    18.000000   53020.000000      0.000000  \n",
       "25%           46.000000    26.000000   66902.000000      0.000000  \n",
       "50%           60.000000    39.000000   73028.000000      0.000000  \n",
       "75%           73.000000    51.000000   80588.000000      0.000000  \n",
       "max           85.000000    64.000000  123416.000000      1.000000  "
      ]
     },
     "execution_count": 203,
     "metadata": {},
     "output_type": "execute_result"
    }
   ],
   "source": [
    "# Statistical info about numerical data\n",
    "\n",
    "df.describe()"
   ]
  },
  {
   "cell_type": "code",
   "execution_count": null,
   "id": "5d09e7d0-712a-4f23-ba0a-e722325d846c",
   "metadata": {},
   "outputs": [],
   "source": []
  },
  {
   "cell_type": "markdown",
   "id": "9d768150-f75c-40f6-8405-bbda4fa84a28",
   "metadata": {},
   "source": [
    "## Detection of Outliers"
   ]
  },
  {
   "cell_type": "code",
   "execution_count": null,
   "id": "c9d052f0-5823-4a5b-acf5-ded172b41469",
   "metadata": {},
   "outputs": [],
   "source": []
  },
  {
   "cell_type": "code",
   "execution_count": 204,
   "id": "38b17b28-7f3d-423d-9948-fb3286856a38",
   "metadata": {},
   "outputs": [
    {
     "data": {
      "image/png": "[encoded data removed]",
      "text/plain": [
       "<Figure size 1200x1500 with 1 Axes>"
      ]
     },
     "metadata": {},
     "output_type": "display_data"
    }
   ],
   "source": [
    "#finding outliers from all columns\n",
    "df.plot(kind='box', figsize=(12, 15))\n",
    "plt.show()"
   ]
  },
  {
   "cell_type": "code",
   "execution_count": null,
   "id": "a61f8194-9f0f-4413-9221-38601658486b",
   "metadata": {},
   "outputs": [],
   "source": []
  },
  {
   "cell_type": "code",
   "execution_count": null,
   "id": "9cbef264-755d-4afb-827a-1788a1648f87",
   "metadata": {},
   "outputs": [],
   "source": []
  },
  {
   "cell_type": "code",
   "execution_count": 205,
   "id": "807e697b-41f3-4e07-ace3-49855be4c6b6",
   "metadata": {},
   "outputs": [],
   "source": [
    "percent25 = df['CTC'].quantile(0.25)\n",
    "percent75 = df['CTC'].quantile(0.75)\n",
    "iqr = percent75-percent25\n",
    "upper_limit = percent75 + 1.5*iqr\n",
    "lower_limit = percent25 - 1.5*iqr\n",
    "\n",
    "newdf = df[df['CTC']<=upper_limit] \n"
   ]
  },
  {
   "cell_type": "markdown",
   "id": "3b4df414-c790-4114-acdd-acc639f7bd66",
   "metadata": {},
   "source": [
    "## Here i have tried to remove outliers using IQR technique but later it comes in observation that it wont affecting that much thats why decided to keep the outliers"
   ]
  },
  {
   "cell_type": "code",
   "execution_count": null,
   "id": "58a65a57-cb79-40f7-8f87-d37c09e5b025",
   "metadata": {},
   "outputs": [],
   "source": []
  },
  {
   "cell_type": "code",
   "execution_count": null,
   "id": "ffed8150-93a5-4c18-9d67-2b64eb1af4ab",
   "metadata": {},
   "outputs": [],
   "source": []
  },
  {
   "cell_type": "code",
   "execution_count": 206,
   "id": "43098fc5-0285-4df4-ae07-522450a79e4f",
   "metadata": {},
   "outputs": [
    {
     "data": {
      "image/png": "[encoded data removed]",
      "text/plain": [
       "<Figure size 1000x800 with 2 Axes>"
      ]
     },
     "metadata": {},
     "output_type": "display_data"
    }
   ],
   "source": [
    "# Visual representation of corr\n",
    "corr_matrix = df.corr()\n",
    "\n",
    "# Plot the correlation matrix as a heatmap\n",
    "plt.figure(figsize=(10, 8))\n",
    "sns.heatmap(corr_matrix, annot=True, cmap='coolwarm', fmt=\".2f\")\n",
    "plt.title('Correlation Matrix')\n",
    "plt.show()"
   ]
  },
  {
   "cell_type": "code",
   "execution_count": 207,
   "id": "4ffeef07-9085-4ee5-a087-eb91e51be6d4",
   "metadata": {},
   "outputs": [],
   "source": [
    "input_data = df.loc[:, df.columns != 'CTC']\n",
    "output_data = df['CTC']"
   ]
  },
  {
   "cell_type": "code",
   "execution_count": 208,
   "id": "e7209d56-1aa7-40da-b85c-fbd9b7635df2",
   "metadata": {},
   "outputs": [
    {
     "data": {
      "text/html": [
       "<div>\n",
       "<style scoped>\n",
       "    .dataframe tbody tr th:only-of-type {\n",
       "        vertical-align: middle;\n",
       "    }\n",
       "\n",
       "    .dataframe tbody tr th {\n",
       "        vertical-align: top;\n",
       "    }\n",
       "\n",
       "    .dataframe thead th {\n",
       "        text-align: right;\n",
       "    }\n",
       "</style>\n",
       "<table border=\"1\" class=\"dataframe\">\n",
       "  <thead>\n",
       "    <tr style=\"text-align: right;\">\n",
       "      <th></th>\n",
       "      <th>College</th>\n",
       "      <th>City</th>\n",
       "      <th>Previous CTC</th>\n",
       "      <th>Previous job change</th>\n",
       "      <th>Graduation Marks</th>\n",
       "      <th>EXP (Month)</th>\n",
       "      <th>Role_Manager</th>\n",
       "    </tr>\n",
       "  </thead>\n",
       "  <tbody>\n",
       "    <tr>\n",
       "      <th>0</th>\n",
       "      <td>2</td>\n",
       "      <td>0</td>\n",
       "      <td>55523</td>\n",
       "      <td>3</td>\n",
       "      <td>66</td>\n",
       "      <td>19</td>\n",
       "      <td>1</td>\n",
       "    </tr>\n",
       "    <tr>\n",
       "      <th>1</th>\n",
       "      <td>2</td>\n",
       "      <td>0</td>\n",
       "      <td>57081</td>\n",
       "      <td>1</td>\n",
       "      <td>84</td>\n",
       "      <td>18</td>\n",
       "      <td>0</td>\n",
       "    </tr>\n",
       "    <tr>\n",
       "      <th>2</th>\n",
       "      <td>1</td>\n",
       "      <td>0</td>\n",
       "      <td>60347</td>\n",
       "      <td>2</td>\n",
       "      <td>52</td>\n",
       "      <td>28</td>\n",
       "      <td>0</td>\n",
       "    </tr>\n",
       "    <tr>\n",
       "      <th>3</th>\n",
       "      <td>1</td>\n",
       "      <td>0</td>\n",
       "      <td>49010</td>\n",
       "      <td>2</td>\n",
       "      <td>81</td>\n",
       "      <td>33</td>\n",
       "      <td>0</td>\n",
       "    </tr>\n",
       "    <tr>\n",
       "      <th>4</th>\n",
       "      <td>3</td>\n",
       "      <td>0</td>\n",
       "      <td>57879</td>\n",
       "      <td>4</td>\n",
       "      <td>74</td>\n",
       "      <td>32</td>\n",
       "      <td>0</td>\n",
       "    </tr>\n",
       "    <tr>\n",
       "      <th>...</th>\n",
       "      <td>...</td>\n",
       "      <td>...</td>\n",
       "      <td>...</td>\n",
       "      <td>...</td>\n",
       "      <td>...</td>\n",
       "      <td>...</td>\n",
       "      <td>...</td>\n",
       "    </tr>\n",
       "    <tr>\n",
       "      <th>1584</th>\n",
       "      <td>3</td>\n",
       "      <td>1</td>\n",
       "      <td>61285</td>\n",
       "      <td>3</td>\n",
       "      <td>44</td>\n",
       "      <td>60</td>\n",
       "      <td>0</td>\n",
       "    </tr>\n",
       "    <tr>\n",
       "      <th>1585</th>\n",
       "      <td>3</td>\n",
       "      <td>0</td>\n",
       "      <td>63140</td>\n",
       "      <td>1</td>\n",
       "      <td>44</td>\n",
       "      <td>24</td>\n",
       "      <td>0</td>\n",
       "    </tr>\n",
       "    <tr>\n",
       "      <th>1586</th>\n",
       "      <td>3</td>\n",
       "      <td>1</td>\n",
       "      <td>44907</td>\n",
       "      <td>1</td>\n",
       "      <td>60</td>\n",
       "      <td>19</td>\n",
       "      <td>0</td>\n",
       "    </tr>\n",
       "    <tr>\n",
       "      <th>1587</th>\n",
       "      <td>3</td>\n",
       "      <td>0</td>\n",
       "      <td>52054</td>\n",
       "      <td>2</td>\n",
       "      <td>67</td>\n",
       "      <td>29</td>\n",
       "      <td>0</td>\n",
       "    </tr>\n",
       "    <tr>\n",
       "      <th>1588</th>\n",
       "      <td>2</td>\n",
       "      <td>1</td>\n",
       "      <td>44353</td>\n",
       "      <td>3</td>\n",
       "      <td>75</td>\n",
       "      <td>18</td>\n",
       "      <td>1</td>\n",
       "    </tr>\n",
       "  </tbody>\n",
       "</table>\n",
       "<p>1589 rows × 7 columns</p>\n",
       "</div>"
      ],
      "text/plain": [
       "      College  City  Previous CTC  Previous job change  Graduation Marks  \\\n",
       "0           2     0         55523                    3                66   \n",
       "1           2     0         57081                    1                84   \n",
       "2           1     0         60347                    2                52   \n",
       "3           1     0         49010                    2                81   \n",
       "4           3     0         57879                    4                74   \n",
       "...       ...   ...           ...                  ...               ...   \n",
       "1584        3     1         61285                    3                44   \n",
       "1585        3     0         63140                    1                44   \n",
       "1586        3     1         44907                    1                60   \n",
       "1587        3     0         52054                    2                67   \n",
       "1588        2     1         44353                    3                75   \n",
       "\n",
       "      EXP (Month)  Role_Manager  \n",
       "0              19             1  \n",
       "1              18             0  \n",
       "2              28             0  \n",
       "3              33             0  \n",
       "4              32             0  \n",
       "...           ...           ...  \n",
       "1584           60             0  \n",
       "1585           24             0  \n",
       "1586           19             0  \n",
       "1587           29             0  \n",
       "1588           18             1  \n",
       "\n",
       "[1589 rows x 7 columns]"
      ]
     },
     "execution_count": 208,
     "metadata": {},
     "output_type": "execute_result"
    }
   ],
   "source": [
    "input_data"
   ]
  },
  {
   "cell_type": "code",
   "execution_count": 209,
   "id": "3466346e-5c60-4a05-9b2c-37c854ad42dc",
   "metadata": {},
   "outputs": [
    {
     "data": {
      "text/plain": [
       "0       71406\n",
       "1       68005\n",
       "2       76764\n",
       "3       82092\n",
       "4       73878\n",
       "        ...  \n",
       "1584    77283\n",
       "1585    68416\n",
       "1586    70186\n",
       "1587    73394\n",
       "1588    70056\n",
       "Name: CTC, Length: 1589, dtype: int32"
      ]
     },
     "execution_count": 209,
     "metadata": {},
     "output_type": "execute_result"
    }
   ],
   "source": [
    "output_data"
   ]
  },
  {
   "cell_type": "markdown",
   "id": "ce4aa942-9ae2-4fef-ba1e-3f9cca678649",
   "metadata": {},
   "source": [
    "# Feature scalling the data"
   ]
  },
  {
   "cell_type": "code",
   "execution_count": 210,
   "id": "2e822342-9782-4a1c-b7ca-f1e58da189e6",
   "metadata": {},
   "outputs": [],
   "source": [
    "from sklearn.preprocessing import StandardScaler"
   ]
  },
  {
   "cell_type": "code",
   "execution_count": null,
   "id": "4407423e-3765-4394-adeb-caf4ce359766",
   "metadata": {},
   "outputs": [],
   "source": []
  },
  {
   "cell_type": "code",
   "execution_count": 211,
   "id": "9a4259e0-d659-4a9c-84f2-8b45072361ec",
   "metadata": {},
   "outputs": [],
   "source": [
    "ss = StandardScaler()\n",
    "input_data = pd.DataFrame(ss.fit_transform(input_data),columns=input_data.columns)\n"
   ]
  },
  {
   "cell_type": "code",
   "execution_count": null,
   "id": "ecb3a504-e76a-40e3-b89c-c90cc8633d4f",
   "metadata": {},
   "outputs": [],
   "source": []
  },
  {
   "cell_type": "code",
   "execution_count": 212,
   "id": "24634a34-00fb-4c48-a3c4-258aa3aa8b2d",
   "metadata": {},
   "outputs": [
    {
     "data": {
      "text/html": [
       "<div>\n",
       "<style scoped>\n",
       "    .dataframe tbody tr th:only-of-type {\n",
       "        vertical-align: middle;\n",
       "    }\n",
       "\n",
       "    .dataframe tbody tr th {\n",
       "        vertical-align: top;\n",
       "    }\n",
       "\n",
       "    .dataframe thead th {\n",
       "        text-align: right;\n",
       "    }\n",
       "</style>\n",
       "<table border=\"1\" class=\"dataframe\">\n",
       "  <thead>\n",
       "    <tr style=\"text-align: right;\">\n",
       "      <th></th>\n",
       "      <th>College</th>\n",
       "      <th>City</th>\n",
       "      <th>Previous CTC</th>\n",
       "      <th>Previous job change</th>\n",
       "      <th>Graduation Marks</th>\n",
       "      <th>EXP (Month)</th>\n",
       "      <th>Role_Manager</th>\n",
       "    </tr>\n",
       "  </thead>\n",
       "  <tbody>\n",
       "    <tr>\n",
       "      <th>0</th>\n",
       "      <td>-0.029286</td>\n",
       "      <td>-1.028732</td>\n",
       "      <td>0.000683</td>\n",
       "      <td>0.419527</td>\n",
       "      <td>0.411558</td>\n",
       "      <td>-1.421162</td>\n",
       "      <td>1.960743</td>\n",
       "    </tr>\n",
       "    <tr>\n",
       "      <th>1</th>\n",
       "      <td>-0.029286</td>\n",
       "      <td>-1.028732</td>\n",
       "      <td>0.234859</td>\n",
       "      <td>-1.360523</td>\n",
       "      <td>1.617149</td>\n",
       "      <td>-1.492061</td>\n",
       "      <td>-0.510011</td>\n",
       "    </tr>\n",
       "    <tr>\n",
       "      <th>2</th>\n",
       "      <td>-1.222509</td>\n",
       "      <td>-1.028732</td>\n",
       "      <td>0.725756</td>\n",
       "      <td>-0.470498</td>\n",
       "      <td>-0.526124</td>\n",
       "      <td>-0.783065</td>\n",
       "      <td>-0.510011</td>\n",
       "    </tr>\n",
       "    <tr>\n",
       "      <th>3</th>\n",
       "      <td>-1.222509</td>\n",
       "      <td>-1.028732</td>\n",
       "      <td>-0.978255</td>\n",
       "      <td>-0.470498</td>\n",
       "      <td>1.416217</td>\n",
       "      <td>-0.428566</td>\n",
       "      <td>-0.510011</td>\n",
       "    </tr>\n",
       "    <tr>\n",
       "      <th>4</th>\n",
       "      <td>1.163937</td>\n",
       "      <td>-1.028732</td>\n",
       "      <td>0.354803</td>\n",
       "      <td>1.309552</td>\n",
       "      <td>0.947376</td>\n",
       "      <td>-0.499466</td>\n",
       "      <td>-0.510011</td>\n",
       "    </tr>\n",
       "    <tr>\n",
       "      <th>...</th>\n",
       "      <td>...</td>\n",
       "      <td>...</td>\n",
       "      <td>...</td>\n",
       "      <td>...</td>\n",
       "      <td>...</td>\n",
       "      <td>...</td>\n",
       "      <td>...</td>\n",
       "    </tr>\n",
       "    <tr>\n",
       "      <th>1584</th>\n",
       "      <td>1.163937</td>\n",
       "      <td>0.972070</td>\n",
       "      <td>0.866743</td>\n",
       "      <td>0.419527</td>\n",
       "      <td>-1.061942</td>\n",
       "      <td>1.485725</td>\n",
       "      <td>-0.510011</td>\n",
       "    </tr>\n",
       "    <tr>\n",
       "      <th>1585</th>\n",
       "      <td>1.163937</td>\n",
       "      <td>-1.028732</td>\n",
       "      <td>1.145559</td>\n",
       "      <td>-1.360523</td>\n",
       "      <td>-1.061942</td>\n",
       "      <td>-1.066663</td>\n",
       "      <td>-0.510011</td>\n",
       "    </tr>\n",
       "    <tr>\n",
       "      <th>1586</th>\n",
       "      <td>1.163937</td>\n",
       "      <td>0.972070</td>\n",
       "      <td>-1.594958</td>\n",
       "      <td>-1.360523</td>\n",
       "      <td>0.009695</td>\n",
       "      <td>-1.421162</td>\n",
       "      <td>-0.510011</td>\n",
       "    </tr>\n",
       "    <tr>\n",
       "      <th>1587</th>\n",
       "      <td>1.163937</td>\n",
       "      <td>-1.028732</td>\n",
       "      <td>-0.520726</td>\n",
       "      <td>-0.470498</td>\n",
       "      <td>0.478536</td>\n",
       "      <td>-0.712165</td>\n",
       "      <td>-0.510011</td>\n",
       "    </tr>\n",
       "    <tr>\n",
       "      <th>1588</th>\n",
       "      <td>-0.029286</td>\n",
       "      <td>0.972070</td>\n",
       "      <td>-1.678227</td>\n",
       "      <td>0.419527</td>\n",
       "      <td>1.014354</td>\n",
       "      <td>-1.492061</td>\n",
       "      <td>1.960743</td>\n",
       "    </tr>\n",
       "  </tbody>\n",
       "</table>\n",
       "<p>1589 rows × 7 columns</p>\n",
       "</div>"
      ],
      "text/plain": [
       "       College      City  Previous CTC  Previous job change  Graduation Marks  \\\n",
       "0    -0.029286 -1.028732      0.000683             0.419527          0.411558   \n",
       "1    -0.029286 -1.028732      0.234859            -1.360523          1.617149   \n",
       "2    -1.222509 -1.028732      0.725756            -0.470498         -0.526124   \n",
       "3    -1.222509 -1.028732     -0.978255            -0.470498          1.416217   \n",
       "4     1.163937 -1.028732      0.354803             1.309552          0.947376   \n",
       "...        ...       ...           ...                  ...               ...   \n",
       "1584  1.163937  0.972070      0.866743             0.419527         -1.061942   \n",
       "1585  1.163937 -1.028732      1.145559            -1.360523         -1.061942   \n",
       "1586  1.163937  0.972070     -1.594958            -1.360523          0.009695   \n",
       "1587  1.163937 -1.028732     -0.520726            -0.470498          0.478536   \n",
       "1588 -0.029286  0.972070     -1.678227             0.419527          1.014354   \n",
       "\n",
       "      EXP (Month)  Role_Manager  \n",
       "0       -1.421162      1.960743  \n",
       "1       -1.492061     -0.510011  \n",
       "2       -0.783065     -0.510011  \n",
       "3       -0.428566     -0.510011  \n",
       "4       -0.499466     -0.510011  \n",
       "...           ...           ...  \n",
       "1584     1.485725     -0.510011  \n",
       "1585    -1.066663     -0.510011  \n",
       "1586    -1.421162     -0.510011  \n",
       "1587    -0.712165     -0.510011  \n",
       "1588    -1.492061      1.960743  \n",
       "\n",
       "[1589 rows x 7 columns]"
      ]
     },
     "execution_count": 212,
     "metadata": {},
     "output_type": "execute_result"
    }
   ],
   "source": [
    "input_data\n"
   ]
  },
  {
   "cell_type": "markdown",
   "id": "475673da-2ecd-482a-a8ef-c31dd274bc10",
   "metadata": {},
   "source": [
    "# Training data\n",
    "\n",
    "## here i am using 20% of data for testing."
   ]
  },
  {
   "cell_type": "code",
   "execution_count": 213,
   "id": "d265636c-924a-46e1-8c64-d2fe0c5cd5c8",
   "metadata": {},
   "outputs": [],
   "source": [
    "from sklearn.model_selection import train_test_split"
   ]
  },
  {
   "cell_type": "code",
   "execution_count": 214,
   "id": "25148f6a-d4cb-4e8a-a322-3f82d9e4d2b2",
   "metadata": {},
   "outputs": [],
   "source": [
    "x_train,x_test, y_train, y_test = train_test_split(input_data,output_data,test_size=0.20,random_state=42)"
   ]
  },
  {
   "cell_type": "markdown",
   "id": "52b18010-e9ed-4c19-a9e0-669d73dec9f4",
   "metadata": {},
   "source": [
    "# Ans for Q.3 :- The Available options of ML Algorithms"
   ]
  },
  {
   "cell_type": "markdown",
   "id": "f48a4019-3880-41e4-beb4-6d0b824d1949",
   "metadata": {},
   "source": [
    "## Here we need to predict the Salary of the employee which is continues value so we have to use regression algorithms.\n",
    "\n",
    "### I have used several algorithms to find which model is best fit for my dataset. and to determine accuracy i am also \n",
    "### calcualting the R2,MAE & MSE"
   ]
  },
  {
   "cell_type": "markdown",
   "id": "8bb3c450-d81b-4d7e-927a-a59172d824e7",
   "metadata": {},
   "source": [
    "## Regression Models i chose :- \n",
    "###        1. Linear Regression\n",
    "###        2. Lasso\n",
    " ###       3. Ridge\n",
    " ###       4. Decision Tree Regressor\n",
    "###        5. KNN\n",
    "###        6. Random Forest\n",
    "###        7. Gradient Boosting Regressor\n",
    "###        8. XG-Boost\n",
    " ###       9. Grid Search CV"
   ]
  },
  {
   "cell_type": "code",
   "execution_count": null,
   "id": "9937b523-2599-45cf-9135-ba60e72d44a3",
   "metadata": {},
   "outputs": [],
   "source": []
  },
  {
   "cell_type": "code",
   "execution_count": 215,
   "id": "cc54d182-ecfe-4da7-b61c-0c46bae76860",
   "metadata": {},
   "outputs": [],
   "source": [
    "#importing all possible regression models\n",
    "from sklearn.linear_model import LinearRegression , Lasso, Ridge, ElasticNet\n",
    "from sklearn.tree import DecisionTreeRegressor\n",
    "from sklearn.neighbors import KNeighborsRegressor\n",
    "from sklearn.ensemble import RandomForestRegressor, GradientBoostingRegressor\n",
    "import xgboost as xgb\n",
    "from sklearn.model_selection import GridSearchCV\n",
    "\n",
    "from sklearn.metrics import r2_score, mean_absolute_error, mean_squared_error"
   ]
  },
  {
   "cell_type": "code",
   "execution_count": null,
   "id": "818fa6bf-7bf8-4a0f-9a9d-dd78a60af03c",
   "metadata": {},
   "outputs": [],
   "source": []
  },
  {
   "cell_type": "markdown",
   "id": "01d03c86-f282-42e5-b93e-55e0f78e73c2",
   "metadata": {},
   "source": [
    "### Linear Regression"
   ]
  },
  {
   "cell_type": "code",
   "execution_count": 216,
   "id": "306a6eca-38cd-467d-b9d3-59abdef39223",
   "metadata": {},
   "outputs": [
    {
     "name": "stdout",
     "output_type": "stream",
     "text": [
      "Linear Regression :\n",
      "r2_score (Train) : 0.5137734046204612\n",
      "MAE (Train): 6722.502766030005\n",
      "MSE (Train): 73096551.52229236\n",
      "\n",
      "r2_score (TEST): 0.5933515097281485\n",
      "MAE (TEST): 7191.2437276750225\n",
      "MSE (TEST): 77362921.92796254\n",
      "Coef: [ 433.70450214  241.31315587 2809.21844394    9.81507575   28.97538923\n",
      " 3437.52651511 7528.90190197]\n",
      "Intercept: 75391.25102252504\n"
     ]
    }
   ],
   "source": [
    "lr = LinearRegression()\n",
    "lr.fit(x_train,y_train)\n",
    "lr_pred = lr.predict(x_test)\n",
    "lr_pred_train = lr.predict(x_train)\n",
    "\n",
    "lr_R2 = (r2_score(y_test, lr_pred))\n",
    "lr_r2_train = r2_score(y_train, lr_pred_train)\n",
    "\n",
    "lr_MAE_test =  mean_absolute_error(y_test, lr_pred)\n",
    "lr_MAE_train =  mean_absolute_error(y_train, lr_pred_train)\n",
    "\n",
    "lr_MSE_test = mean_squared_error(y_test, lr_pred)\n",
    "lr_MSE_train = mean_squared_error(y_train, lr_pred_train)\n",
    "print(\"Linear Regression :\")\n",
    "print(\"r2_score (Train) :\", lr_r2_train)\n",
    "print(\"MAE (Train):\", lr_MAE_train)\n",
    "print(\"MSE (Train):\", lr_MSE_train)\n",
    "print(\"\")\n",
    "print(\"r2_score (TEST):\",lr_R2)\n",
    "print(\"MAE (TEST):\", lr_MAE_test)\n",
    "print(\"MSE (TEST):\", lr_MSE_test)      \n",
    "\n",
    "print(\"Coef:\",lr.coef_)\n",
    "print(\"Intercept:\",lr.intercept_)\n"
   ]
  },
  {
   "cell_type": "code",
   "execution_count": null,
   "id": "f842108c-a10f-49d8-b313-5b7b7bf17081",
   "metadata": {},
   "outputs": [],
   "source": []
  },
  {
   "cell_type": "markdown",
   "id": "ac93714e-a999-45af-80b7-4c21d59e9917",
   "metadata": {},
   "source": [
    "### Lasso"
   ]
  },
  {
   "cell_type": "code",
   "execution_count": 248,
   "id": "a32fa86a-bb75-4839-8b70-f3d23a83d447",
   "metadata": {},
   "outputs": [
    {
     "name": "stdout",
     "output_type": "stream",
     "text": [
      "Results :\n",
      "r2_score (Train) : 0.5137734046204612\n",
      "MAE (Train): 6722.4933879901055\n",
      "MSE (Train): 73096558.55355996\n",
      "\n",
      "r2_score (TEST): 0.5933166424401441\n",
      "MAE (TEST): 7191.573701889947\n",
      "MSE (TEST): 77369555.2620195\n",
      "Coef: [ 432.69282749  240.27270042 2808.28914123    8.92355186   27.90765002\n",
      " 3436.5464592  7527.79122383]\n",
      "Intercept: 75391.2402952226\n"
     ]
    }
   ],
   "source": [
    "ls = Lasso(alpha=1)\n",
    "ls.fit(x_train,y_train)\n",
    "ls_pred = ls.predict(x_test)\n",
    "ls_pred_train = ls.predict(x_train)\n",
    "\n",
    "ls_R2 = (r2_score(y_test, ls_pred))\n",
    "ls_r2_train = r2_score(y_train, lr_pred_train)\n",
    "\n",
    "ls_MAE_test =  mean_absolute_error(y_test, ls_pred)\n",
    "ls_MAE_train =  mean_absolute_error(y_train, ls_pred_train)\n",
    "\n",
    "ls_MSE_test = mean_squared_error(y_test, ls_pred)\n",
    "ls_MSE_train = mean_squared_error(y_train, ls_pred_train)\n",
    "\n",
    "print(\"Results :\")\n",
    "print(\"r2_score (Train) :\", ls_r2_train)\n",
    "print(\"MAE (Train):\", ls_MAE_train)\n",
    "print(\"MSE (Train):\", ls_MSE_train)\n",
    "print(\"\")\n",
    "print(\"r2_score (TEST):\",ls_R2)\n",
    "print(\"MAE (TEST):\", ls_MAE_test)\n",
    "print(\"MSE (TEST):\", ls_MSE_test) \n",
    "\n",
    "print(\"Coef:\",ls.coef_)\n",
    "print(\"Intercept:\",ls.intercept_)\n",
    "\n"
   ]
  },
  {
   "cell_type": "code",
   "execution_count": null,
   "id": "a9437309-e6e3-4e96-8bc0-2233a18de965",
   "metadata": {},
   "outputs": [],
   "source": []
  },
  {
   "cell_type": "code",
   "execution_count": null,
   "id": "40be4ee1-9c5f-4566-8f0c-dcd0b1b3d9fe",
   "metadata": {},
   "outputs": [],
   "source": []
  },
  {
   "cell_type": "markdown",
   "id": "0d9ba73c-9bc1-4d44-920f-95b41f6ba437",
   "metadata": {},
   "source": [
    "### Ridge "
   ]
  },
  {
   "cell_type": "code",
   "execution_count": 247,
   "id": "94c99d0b-cf91-4872-9d09-842b858162a2",
   "metadata": {},
   "outputs": [
    {
     "name": "stdout",
     "output_type": "stream",
     "text": [
      "Results :\n",
      "r2_score (Train) : 0.5137730890698726\n",
      "MAE (Train): 6722.623848187841\n",
      "MSE (Train): 73096598.96038002\n",
      "\n",
      "r2_score (TEST): 0.5932136688005096\n",
      "MAE (TEST): 7192.627657818951\n",
      "MSE (TEST): 77389145.5023235\n",
      "Coef: [ 433.18604627  240.69586248 2807.38421279    9.68806815   28.90918439\n",
      " 3434.94170241 7522.80185765]\n",
      "Intercept: 75391.17123288056\n"
     ]
    }
   ],
   "source": [
    "Rg = Ridge(alpha=1)\n",
    "Rg.fit(x_train,y_train)\n",
    "Rg_pred = Rg.predict(x_test)\n",
    "Rg_pred_train = Rg.predict(x_train)\n",
    "\n",
    "Rg_R2 = (r2_score(y_test, Rg_pred))\n",
    "Rg_r2_train = r2_score(y_train, Rg_pred_train)\n",
    "\n",
    "Rg_MAE_test =  mean_absolute_error(y_test, Rg_pred)\n",
    "Rg_MAE_train =  mean_absolute_error(y_train, Rg_pred_train)\n",
    "\n",
    "Rg_MSE_test = mean_squared_error(y_test, Rg_pred)\n",
    "Rg_MSE_train = mean_squared_error(y_train, Rg_pred_train)\n",
    "\n",
    "print(\"Results :\")\n",
    "print(\"r2_score (Train) :\", Rg_r2_train)\n",
    "print(\"MAE (Train):\", Rg_MAE_train)\n",
    "print(\"MSE (Train):\", Rg_MSE_train)\n",
    "print(\"\")\n",
    "print(\"r2_score (TEST):\",Rg_R2)\n",
    "print(\"MAE (TEST):\", Rg_MAE_test)\n",
    "print(\"MSE (TEST):\", Rg_MSE_test) \n",
    "print(\"Coef:\",Rg.coef_)\n",
    "print(\"Intercept:\",Rg.intercept_)\n"
   ]
  },
  {
   "cell_type": "code",
   "execution_count": null,
   "id": "e81ffe89-4f32-4388-9db6-2fcbae909f25",
   "metadata": {},
   "outputs": [],
   "source": []
  },
  {
   "cell_type": "code",
   "execution_count": null,
   "id": "5e8f6674-7930-4833-a5aa-a07f1dce8a61",
   "metadata": {},
   "outputs": [],
   "source": []
  },
  {
   "cell_type": "markdown",
   "id": "7e9946c3-ae3e-4a5e-bab2-0cd114e13a53",
   "metadata": {},
   "source": [
    "### ElasticNet"
   ]
  },
  {
   "cell_type": "code",
   "execution_count": 246,
   "id": "eb6701c3-18ec-45ce-8f17-2db99723bace",
   "metadata": {},
   "outputs": [
    {
     "name": "stdout",
     "output_type": "stream",
     "text": [
      "Results :\n",
      "r2_score (Train) : 0.25352276664954587\n",
      "MAE (Train): 8010.873228641949\n",
      "MSE (Train): 112221157.92581736\n",
      "\n",
      "r2_score (TEST): 0.2546620015559614\n",
      "MAE (TEST): 9303.165389228277\n",
      "MSE (TEST): 141796973.9541448\n",
      "Coef: [  70.96238228  -41.77160271  902.92328926  -33.32033458   -3.22590782\n",
      " 1025.42137579 2109.75226948]\n",
      "Intercept: 75316.06837342706\n"
     ]
    }
   ],
   "source": [
    "El = ElasticNet(alpha=5)\n",
    "El.fit(x_train,y_train)\n",
    "El_pred = El.predict(x_test)\n",
    "El_pred_train = El.predict(x_train)\n",
    "\n",
    "El_R2 = (r2_score(y_test, El_pred))\n",
    "El_r2_train = r2_score(y_train, El_pred_train)\n",
    "\n",
    "El_MAE_test =  mean_absolute_error(y_test, El_pred)\n",
    "El_MAE_train =  mean_absolute_error(y_train, El_pred_train)\n",
    "\n",
    "El_MSE_test = mean_squared_error(y_test, El_pred)\n",
    "El_MSE_train = mean_squared_error(y_train, El_pred_train)\n",
    "print(\"Results :\")\n",
    "print(\"r2_score (Train) :\", El_r2_train)\n",
    "print(\"MAE (Train):\", El_MAE_train)\n",
    "print(\"MSE (Train):\", El_MSE_train)\n",
    "print(\"\")\n",
    "print(\"r2_score (TEST):\",El_R2)\n",
    "print(\"MAE (TEST):\", El_MAE_test)\n",
    "print(\"MSE (TEST):\", El_MSE_test)  \n",
    "print(\"Coef:\",El.coef_)\n",
    "print(\"Intercept:\",El.intercept_)\n"
   ]
  },
  {
   "cell_type": "code",
   "execution_count": null,
   "id": "6900574a-feae-46e1-bd6a-d041d6d381d1",
   "metadata": {},
   "outputs": [],
   "source": []
  },
  {
   "cell_type": "code",
   "execution_count": null,
   "id": "8b7e69aa-a7ec-4674-9eda-6e4ec4cf6193",
   "metadata": {},
   "outputs": [],
   "source": []
  },
  {
   "cell_type": "markdown",
   "id": "52cff50d-155a-429c-b73a-5e57c2ec5025",
   "metadata": {},
   "source": [
    "### DecisionTreeRegressor"
   ]
  },
  {
   "cell_type": "code",
   "execution_count": 245,
   "id": "078b937f-a67c-44f1-aad9-3a125b262109",
   "metadata": {},
   "outputs": [
    {
     "name": "stdout",
     "output_type": "stream",
     "text": [
      "Results :\n",
      "r2_score (Train) : 0.6623644305533087\n",
      "MAE (Train): 5586.937609239464\n",
      "MSE (Train): 50758218.55971056\n",
      "\n",
      "r2_score (TEST): 0.5828604610642147\n",
      "MAE (TEST): 6894.158234676221\n",
      "MSE (TEST): 79358793.54225968\n"
     ]
    }
   ],
   "source": [
    "DT = DecisionTreeRegressor(max_depth=5)\n",
    "DT.fit(x_train,y_train)\n",
    "DT_pred = DT.predict(x_test)\n",
    "DT_pred_train = DT.predict(x_train)\n",
    "\n",
    "DT_R2 = (r2_score(y_test, DT_pred))\n",
    "DT_r2_train = r2_score(y_train, DT_pred_train)\n",
    "\n",
    "DT_MAE_test =  mean_absolute_error(y_test, DT_pred)\n",
    "DT_MAE_train =  mean_absolute_error(y_train, DT_pred_train)\n",
    "\n",
    "DT_MSE_test = mean_squared_error(y_test, DT_pred)\n",
    "DT_MSE_train = mean_squared_error(y_train, DT_pred_train)\n",
    "print(\"Results :\")\n",
    "print(\"r2_score (Train) :\", DT_r2_train)\n",
    "print(\"MAE (Train):\", DT_MAE_train)\n",
    "print(\"MSE (Train):\", DT_MSE_train)\n",
    "print(\"\")\n",
    "print(\"r2_score (TEST):\",DT_R2)\n",
    "print(\"MAE (TEST):\", DT_MAE_test)\n",
    "print(\"MSE (TEST):\", DT_MSE_test) \n",
    "\n"
   ]
  },
  {
   "cell_type": "code",
   "execution_count": null,
   "id": "763519b9-c4c4-479b-8b57-40b2d260dade",
   "metadata": {},
   "outputs": [],
   "source": []
  },
  {
   "cell_type": "markdown",
   "id": "0ca3c845-14be-4129-bb1f-d310eaa7dbd5",
   "metadata": {},
   "source": [
    "# now Training score is best. But it is over fitting. \n",
    "# we may eliminate this overfitting using Post Prunning technic."
   ]
  },
  {
   "cell_type": "code",
   "execution_count": null,
   "id": "a0054b1c-2aba-4aee-a988-7b66d3272074",
   "metadata": {},
   "outputs": [],
   "source": []
  },
  {
   "cell_type": "markdown",
   "id": "2a7f1356-abde-4b96-9332-2c11d0339c4f",
   "metadata": {},
   "source": [
    "### RandomForest"
   ]
  },
  {
   "cell_type": "code",
   "execution_count": null,
   "id": "0a6791b2-b6d3-4561-aa54-d8fb163f93ea",
   "metadata": {},
   "outputs": [],
   "source": []
  },
  {
   "cell_type": "code",
   "execution_count": 242,
   "id": "495fc564-d6da-4fa8-abb9-ab0fa4a9eab0",
   "metadata": {},
   "outputs": [
    {
     "name": "stdout",
     "output_type": "stream",
     "text": [
      "Results :\n",
      "r2_score (Train) : 0.9488280479816423\n",
      "MAE (Train): 2120.404710201941\n",
      "MSE (Train): 7692901.340138334\n",
      "\n",
      "r2_score (TEST): 0.6312131449500887\n",
      "MAE (TEST): 6431.93320754717\n",
      "MSE (TEST): 70159927.69630608\n"
     ]
    }
   ],
   "source": [
    "RF = RandomForestRegressor(n_estimators=150)\n",
    "RF.fit(x_train,y_train)\n",
    "RF_pred = RF.predict(x_test)\n",
    "RF_pred_train = RF.predict(x_train)\n",
    "\n",
    "RF_R2 = (r2_score(y_test, RF_pred))\n",
    "RF_r2_train = r2_score(y_train, RF_pred_train)\n",
    "\n",
    "RF_MAE_test =  mean_absolute_error(y_test, RF_pred)\n",
    "RF_MAE_train =  mean_absolute_error(y_train, RF_pred_train)\n",
    "\n",
    "RF_MSE_test = mean_squared_error(y_test, RF_pred)\n",
    "RF_MSE_train = mean_squared_error(y_train, RF_pred_train)\n",
    "print(\"Results :\")\n",
    "print(\"r2_score (Train) :\", RF_r2_train)\n",
    "print(\"MAE (Train):\", RF_MAE_train)\n",
    "print(\"MSE (Train):\", RF_MSE_train)\n",
    "print(\"\")\n",
    "print(\"r2_score (TEST):\",RF_R2)\n",
    "print(\"MAE (TEST):\", RF_MAE_test)\n",
    "print(\"MSE (TEST):\", RF_MSE_test)\n"
   ]
  },
  {
   "cell_type": "code",
   "execution_count": null,
   "id": "fcd30648-624c-4510-9b95-ff16cdd9163b",
   "metadata": {},
   "outputs": [],
   "source": []
  },
  {
   "cell_type": "markdown",
   "id": "ebcdff6e-cd69-44f6-b801-36f5e99b622c",
   "metadata": {},
   "source": [
    "### Gradient Boosting Regressor"
   ]
  },
  {
   "cell_type": "code",
   "execution_count": 243,
   "id": "3eb9bda9-de37-4744-b831-f6d0dc6bfaa4",
   "metadata": {},
   "outputs": [
    {
     "name": "stdout",
     "output_type": "stream",
     "text": [
      "Results :\n",
      "r2_score (Train) : 0.7934861385750831\n",
      "MAE (Train): 4389.015793825663\n",
      "MSE (Train): 31046123.875496313\n",
      "\n",
      "r2_score (TEST): 0.623405094322341\n",
      "MAE (TEST): 6549.231271737392\n",
      "MSE (TEST): 71645371.82206738\n"
     ]
    }
   ],
   "source": [
    "GB = GradientBoostingRegressor(max_depth=4)\n",
    "GB.fit(x_train,y_train)\n",
    "GB_pred = GB.predict(x_test)\n",
    "GB_pred_train = GB.predict(x_train)\n",
    "\n",
    "GB_R2 = (r2_score(y_test, GB_pred))\n",
    "GB_r2_train = r2_score(y_train, GB_pred_train)\n",
    "\n",
    "GB_MAE_test =  mean_absolute_error(y_test, GB_pred)\n",
    "GB_MAE_train =  mean_absolute_error(y_train, GB_pred_train)\n",
    "\n",
    "GB_MSE_test = mean_squared_error(y_test, GB_pred)\n",
    "GB_MSE_train = mean_squared_error(y_train, GB_pred_train)\n",
    "print(\"Results :\")\n",
    "print(\"r2_score (Train) :\", GB_r2_train)\n",
    "print(\"MAE (Train):\", GB_MAE_train)\n",
    "print(\"MSE (Train):\", GB_MSE_train)\n",
    "print(\"\")\n",
    "print(\"r2_score (TEST):\",GB_R2)\n",
    "print(\"MAE (TEST):\", GB_MAE_test)\n",
    "print(\"MSE (TEST):\", GB_MSE_test)\n"
   ]
  },
  {
   "cell_type": "code",
   "execution_count": null,
   "id": "7fc92293-24f9-4576-b3d9-36ae5d7aad25",
   "metadata": {},
   "outputs": [],
   "source": []
  },
  {
   "cell_type": "code",
   "execution_count": null,
   "id": "fbac44ec-c245-45b6-9694-0cd0c3e8c08d",
   "metadata": {},
   "outputs": [],
   "source": []
  },
  {
   "cell_type": "markdown",
   "id": "fe83c085-1fd6-477e-8732-39dcafa8d49d",
   "metadata": {},
   "source": [
    "### XG-Boost Regressor "
   ]
  },
  {
   "cell_type": "code",
   "execution_count": 244,
   "id": "dd470d12-e232-46b8-b8ef-43fe81017242",
   "metadata": {},
   "outputs": [
    {
     "name": "stdout",
     "output_type": "stream",
     "text": [
      "Results :\n",
      "r2_score (Train) : 0.9880734323510023\n",
      "MAE (Train): 899.4892985346185\n",
      "MSE (Train): 1792972.60767598\n",
      "\n",
      "r2_score (TEST): 0.6494026000222659\n",
      "MAE (TEST): 6229.151668140723\n",
      "MSE (TEST): 66699471.24232958\n"
     ]
    }
   ],
   "source": [
    "XGB = xgb.XGBRegressor(objective='reg:squarederror', random_state=42)\n",
    "\n",
    "#Fit the model\n",
    "XGB.fit(x_train,y_train)\n",
    "XGB_pred = XGB.predict(x_test)\n",
    "XGB_pred_train = XGB.predict(x_train)\n",
    "\n",
    "XGB_R2 = (r2_score(y_test, XGB_pred))\n",
    "XGB_r2_train = r2_score(y_train, XGB_pred_train)\n",
    "\n",
    "XGB_MAE_test =  mean_absolute_error(y_test, XGB_pred)\n",
    "XGB_MAE_train =  mean_absolute_error(y_train, XGB_pred_train)\n",
    "\n",
    "XGB_MSE_test = mean_squared_error(y_test, XGB_pred)\n",
    "XGB_MSE_train = mean_squared_error(y_train, XGB_pred_train)\n",
    "print(\"Results :\")\n",
    "print(\"r2_score (Train) :\", XGB_r2_train)\n",
    "print(\"MAE (Train):\", XGB_MAE_train)\n",
    "print(\"MSE (Train):\", XGB_MSE_train)\n",
    "print(\"\")\n",
    "print(\"r2_score (TEST):\",XGB_R2)\n",
    "print(\"MAE (TEST):\", XGB_MAE_test)\n",
    "print(\"MSE (TEST):\", XGB_MSE_test)\n"
   ]
  },
  {
   "cell_type": "code",
   "execution_count": null,
   "id": "0d8de74e-43cf-4e79-a2a7-11dc242ebd82",
   "metadata": {},
   "outputs": [],
   "source": []
  },
  {
   "cell_type": "code",
   "execution_count": null,
   "id": "516a8c19-e811-4754-9d7e-6ca1b5e05091",
   "metadata": {},
   "outputs": [],
   "source": []
  },
  {
   "cell_type": "code",
   "execution_count": null,
   "id": "52d3a43c-d206-4b8e-96d9-f27b2deb379d",
   "metadata": {},
   "outputs": [],
   "source": []
  },
  {
   "cell_type": "markdown",
   "id": "f8d947e0-92a6-44f5-8efc-29ad6503fb85",
   "metadata": {},
   "source": [
    "### Grid Search CV"
   ]
  },
  {
   "cell_type": "code",
   "execution_count": 224,
   "id": "82b77e16-1ab6-41f8-8733-0ad013fd07f0",
   "metadata": {},
   "outputs": [
    {
     "name": "stdout",
     "output_type": "stream",
     "text": [
      "Tuned Decision Tree Regression Results:\n",
      "Best Parameters: {'max_depth': 3}\n",
      "Best R-squared Score (CV): 0.5764120974591482\n",
      "Mean Squared Error: 77065777.29092808\n",
      "R-squared (Test Set): 0.5949134132218526\n",
      "R-squared (Training Set): 0.6062943355764511\n"
     ]
    }
   ],
   "source": [
    "#Define the parameter grid for max_depth\n",
    "param_grid = {'max_depth': [3, 5, 7, 10, None]}\n",
    "\n",
    "#Initialize GridSearchCV\n",
    "grid_search_dt = GridSearchCV(estimator=DecisionTreeRegressor(random_state=42), param_grid=param_grid, cv=5, scoring='r2')\n",
    "\n",
    "#Fit GridSearchCV\n",
    "grid_search_dt.fit(x_train, y_train)\n",
    "\n",
    "#Get the best parameters and best score\n",
    "best_params_BT = grid_search_dt.best_params_\n",
    "best_score_BT = grid_search_dt.best_score_\n",
    "\n",
    "#Train the best model\n",
    "best_decision_tree = DecisionTreeRegressor(**best_params_BT, random_state=42)\n",
    "best_decision_tree.fit(x_train, y_train)\n",
    "\n",
    "#Make predictions\n",
    "best_dt_pred = best_decision_tree.predict(x_test)\n",
    "\n",
    "#Evaluate the model\n",
    "best_dt_mse = mean_squared_error(y_test, best_dt_pred)\n",
    "best_dt_r2 = r2_score(y_test, best_dt_pred)\n",
    "\n",
    "print(\"Tuned Decision Tree Regression Results:\")\n",
    "print(\"Best Parameters:\", best_params_BT)\n",
    "print(\"Best R-squared Score (CV):\", best_score_BT)\n",
    "print(\"Mean Squared Error:\", best_dt_mse)\n",
    "print(\"R-squared (Test Set):\", best_dt_r2)\n",
    "print(\"R-squared (Training Set):\", best_decision_tree.score(x_train, y_train))"
   ]
  },
  {
   "cell_type": "markdown",
   "id": "108d5604-5fa1-462e-886b-81a657cb61d1",
   "metadata": {},
   "source": [
    "### KNN "
   ]
  },
  {
   "cell_type": "code",
   "execution_count": 225,
   "id": "6efc657c-90ae-4862-84ca-00f667c86044",
   "metadata": {},
   "outputs": [
    {
     "name": "stdout",
     "output_type": "stream",
     "text": [
      "Linear Regression :\n",
      "r2_score (Train) : 0.6320137140445136\n",
      "MAE (Train): 5860.805577410612\n",
      "MSE (Train): 55320973.32077396\n",
      "\n",
      "r2_score (TEST): 0.6160672592877579\n",
      "MAE (TEST): 6965.929769392033\n",
      "MSE (TEST): 73041359.68992157\n"
     ]
    }
   ],
   "source": [
    "KNN = KNeighborsRegressor(n_neighbors=9)\n",
    "KNN.fit(x_train,y_train)\n",
    "KNN_pred = KNN.predict(x_test)\n",
    "KNN_pred_train = KNN.predict(x_train)\n",
    "\n",
    "KNN_R2 = (r2_score(y_test, KNN_pred))\n",
    "KNN_r2_train = r2_score(y_train, KNN_pred_train)\n",
    "\n",
    "KNN_MAE_test =  mean_absolute_error(y_test, KNN_pred)\n",
    "KNN_MAE_train =  mean_absolute_error(y_train, KNN_pred_train)\n",
    "\n",
    "KNN_MSE_test = mean_squared_error(y_test, KNN_pred)\n",
    "KNN_MSE_train = mean_squared_error(y_train, KNN_pred_train)\n",
    "print(\"Linear Regression :\")\n",
    "print(\"r2_score (Train) :\", KNN_r2_train)\n",
    "print(\"MAE (Train):\", KNN_MAE_train)\n",
    "print(\"MSE (Train):\", KNN_MSE_train)\n",
    "print(\"\")\n",
    "print(\"r2_score (TEST):\",KNN_R2)\n",
    "print(\"MAE (TEST):\", KNN_MAE_test)\n",
    "print(\"MSE (TEST):\", KNN_MSE_test)\n"
   ]
  },
  {
   "cell_type": "markdown",
   "id": "ea7f5a52-6134-44e8-9f10-5ae534ce9020",
   "metadata": {},
   "source": [
    "### Visual Representation "
   ]
  },
  {
   "cell_type": "code",
   "execution_count": 226,
   "id": "3326030e-6822-4eda-a4bf-124f38e3071e",
   "metadata": {},
   "outputs": [
    {
     "data": {
      "image/png": "[encoded data removed]",
      "text/plain": [
       "<Figure size 1200x800 with 1 Axes>"
      ]
     },
     "metadata": {},
     "output_type": "display_data"
    }
   ],
   "source": [
    "import matplotlib.pyplot as plt\n",
    "\n",
    "#Create a list of model names\n",
    "model_names = ['Linear Regression', 'Ridge Regression', 'Lasso Regression', 'Decision Tree', 'Random Forest', 'Gradient Boosting', 'XGBoost','GridSearchCV','KNeighbors']\n",
    "\n",
    "#Create a list of R-squared values for each model\n",
    "r2_values = [lr_R2*100, Rg_R2*100, ls_R2*100, DT_R2*100, RF_R2*100, GB_R2*100, XGB_R2*100, best_dt_r2*100, KNN_R2*100]\n",
    "\n",
    "#Create a bar chart\n",
    "plt.figure(figsize=(12, 8))\n",
    "plt.bar(model_names, r2_values)\n",
    "plt.xlabel('Models')\n",
    "plt.ylabel('R-squared')\n",
    "plt.title('Comparison of Regression Models')\n",
    "plt.xticks(rotation=45)\n",
    "plt.show()"
   ]
  },
  {
   "cell_type": "code",
   "execution_count": null,
   "id": "ccd78159-fc1b-480f-8ff2-b412b3aabc1f",
   "metadata": {},
   "outputs": [],
   "source": []
  },
  {
   "cell_type": "code",
   "execution_count": null,
   "id": "703c0b02-a007-4c70-a05d-b56666fdb99b",
   "metadata": {},
   "outputs": [],
   "source": []
  },
  {
   "cell_type": "code",
   "execution_count": null,
   "id": "dd0e18eb-1247-4622-9d06-7c33a8842c8f",
   "metadata": {},
   "outputs": [],
   "source": []
  },
  {
   "cell_type": "markdown",
   "id": "d23192b6-13a8-4fee-9ddd-50f12c63d9b5",
   "metadata": {},
   "source": [
    "## Now we are Using 10% Data of size for testing"
   ]
  },
  {
   "cell_type": "code",
   "execution_count": 227,
   "id": "99fded4e-63a2-4a4d-8aae-cf2d32943cd3",
   "metadata": {},
   "outputs": [],
   "source": [
    "#training Data again with 90% of data\n",
    "X_train,X_test, Y_train, Y_test = train_test_split(input_data,output_data,test_size=0.10,random_state=42)"
   ]
  },
  {
   "cell_type": "code",
   "execution_count": 228,
   "id": "7d57f663-920d-4654-a986-5da45715b76a",
   "metadata": {},
   "outputs": [],
   "source": [
    "#importing all possible regression models\n",
    "from sklearn.linear_model import LinearRegression , Lasso, Ridge, ElasticNet\n",
    "from sklearn.tree import DecisionTreeRegressor\n",
    "from sklearn.neighbors import KNeighborsRegressor\n",
    "from sklearn.ensemble import RandomForestRegressor, GradientBoostingRegressor\n",
    "import xgboost as xgb\n",
    "from sklearn.model_selection import GridSearchCV\n",
    "from sklearn.metrics import r2_score, mean_absolute_error, mean_squared_error"
   ]
  },
  {
   "cell_type": "markdown",
   "id": "6a035935-778b-4787-8a58-58edb6d97f16",
   "metadata": {},
   "source": [
    "## Linear Regression¶"
   ]
  },
  {
   "cell_type": "code",
   "execution_count": 229,
   "id": "a844958b-f95a-4201-b233-a628a4f99ce8",
   "metadata": {},
   "outputs": [
    {
     "name": "stdout",
     "output_type": "stream",
     "text": [
      "Linear Regression :\n",
      "r2_score (Train) : 0.5137734046204612\n",
      "MAE (Train): 6722.502766030005\n",
      "MSE (Train): 73096551.52229236\n",
      "\n",
      "r2_score (TEST): 0.5933515097281485\n",
      "MAE (TEST): 7191.2437276750225\n",
      "MSE (TEST): 77362921.92796254\n",
      "Coef: [ 371.1907837   262.78555097 2715.87050403  103.68526779   34.57208034\n",
      " 3548.94009957 7662.02115719]\n",
      "Intercept: 75347.40785645328\n"
     ]
    }
   ],
   "source": [
    "LRA = LinearRegression()\n",
    "LRA.fit(x_train,y_train)\n",
    "LRA_pred = LRA.predict(x_test)\n",
    "LRA_pred_train = LRA.predict(x_train)\n",
    "\n",
    "LRA_R2 = (r2_score(y_test, LRA_pred))\n",
    "LRA_r2_train = r2_score(y_train, LRA_pred_train)\n",
    "\n",
    "LRA_MAE_test =  mean_absolute_error(y_test, LRA_pred)\n",
    "LRA_MAE_train =  mean_absolute_error(y_train, LRA_pred_train)\n",
    "\n",
    "LRA_MSE_test = mean_squared_error(y_test, LRA_pred)\n",
    "LRA_MSE_train = mean_squared_error(y_train, LRA_pred_train)\n",
    "print(\"Linear Regression :\")\n",
    "print(\"r2_score (Train) :\", LRA_r2_train)\n",
    "print(\"MAE (Train):\", LRA_MAE_train)\n",
    "print(\"MSE (Train):\", LRA_MSE_train)\n",
    "print(\"\")\n",
    "print(\"r2_score (TEST):\",LRA_R2)\n",
    "print(\"MAE (TEST):\", LRA_MAE_test)\n",
    "print(\"MSE (TEST):\", LRA_MSE_test)\n",
    "print(\"Coef:\",lrA.coef_)\n",
    "print(\"Intercept:\",lrA.intercept_)\n"
   ]
  },
  {
   "cell_type": "code",
   "execution_count": null,
   "id": "2ef3a9e7-e34b-4dab-9e1c-e834620e0d72",
   "metadata": {},
   "outputs": [],
   "source": []
  },
  {
   "cell_type": "markdown",
   "id": "acb7d12f-83a4-4f96-8baa-81f5807bbabb",
   "metadata": {},
   "source": [
    "### Ridge"
   ]
  },
  {
   "cell_type": "code",
   "execution_count": 262,
   "id": "ded2f0be-cf59-4f4e-adce-b0603360c906",
   "metadata": {},
   "outputs": [
    {
     "name": "stdout",
     "output_type": "stream",
     "text": [
      "Results :\n",
      "r2_score (Train) : 0.5137730890698726\n",
      "MAE (Train): 6722.623848187841\n",
      "MSE (Train): 73096598.96038002\n",
      "\n",
      "r2_score (TEST): 0.5932136688005096\n",
      "MAE (TEST): 7192.627657818951\n",
      "MSE (TEST): 77389145.5023235\n",
      "Coef: [ 433.18604627  240.69586248 2807.38421279    9.68806815   28.90918439\n",
      " 3434.94170241 7522.80185765]\n",
      "Intercept: 75391.17123288056\n"
     ]
    }
   ],
   "source": [
    "RG_1 = Ridge(alpha=1)\n",
    "RG_1.fit(x_train,y_train)\n",
    "RG_1_pred = RG_1.predict(x_test)\n",
    "RG_1_pred_train = RG_1.predict(x_train)\n",
    "\n",
    "RG_1_R2 = (r2_score(y_test, RG_1_pred))\n",
    "RG_1_r2_train = r2_score(y_train, RG_1_pred_train)\n",
    "\n",
    "RG_1_MAE_test =  mean_absolute_error(y_test, RG_1_pred)\n",
    "RG_1_MAE_train =  mean_absolute_error(y_train, RG_1_pred_train)\n",
    "\n",
    "RG_1_MSE_test = mean_squared_error(y_test, RG_1_pred)\n",
    "RG_1_MSE_train = mean_squared_error(y_train, RG_1_pred_train)\n",
    "print(\"Results :\")\n",
    "print(\"r2_score (Train) :\", RG_1_r2_train)\n",
    "print(\"MAE (Train):\", RG_1_MAE_train)\n",
    "print(\"MSE (Train):\", RG_1_MSE_train)\n",
    "print(\"\")\n",
    "print(\"r2_score (TEST):\",RG_1_R2)\n",
    "print(\"MAE (TEST):\", RG_1_MAE_test)\n",
    "print(\"MSE (TEST):\", RG_1_MSE_test)\n",
    "print(\"Coef:\",RG_1.coef_)\n",
    "print(\"Intercept:\",RG_1.intercept_)\n"
   ]
  },
  {
   "cell_type": "code",
   "execution_count": null,
   "id": "2e8ca670-2d1c-4e7b-b600-d9a131c3b1c5",
   "metadata": {},
   "outputs": [],
   "source": []
  },
  {
   "cell_type": "code",
   "execution_count": null,
   "id": "7a80b2d1-7aa8-40e4-bec0-e46888ae4290",
   "metadata": {},
   "outputs": [],
   "source": []
  },
  {
   "cell_type": "markdown",
   "id": "2cc76aa6-21de-412e-abf5-7e8b97b3f35b",
   "metadata": {},
   "source": [
    "### Lasso"
   ]
  },
  {
   "cell_type": "code",
   "execution_count": 263,
   "id": "35286fdf-e98e-4da2-8b0e-b0e1f740c351",
   "metadata": {},
   "outputs": [
    {
     "name": "stdout",
     "output_type": "stream",
     "text": [
      "Results :\n",
      "r2_score (Train) : 0.5137733578495912\n",
      "MAE (Train): 6722.4933879901055\n",
      "MSE (Train): 73096558.55355996\n",
      "\n",
      "r2_score (TEST): 0.5933166424401441\n",
      "MAE (TEST): 7191.573701889947\n",
      "MSE (TEST): 77369555.2620195\n",
      "Coef: [ 432.69282749  240.27270042 2808.28914123    8.92355186   27.90765002\n",
      " 3436.5464592  7527.79122383]\n",
      "Intercept: 75391.2402952226\n"
     ]
    }
   ],
   "source": [
    "LS_1 = Lasso(alpha=1)\n",
    "LS_1.fit(x_train,y_train)\n",
    "LS_1_pred = LS_1.predict(x_test)\n",
    "LS_1_pred_train = LS_1.predict(x_train)\n",
    "\n",
    "LS_1_R2 = (r2_score(y_test, LS_1_pred))\n",
    "LS_1_r2_train = r2_score(y_train, LS_1_pred_train)\n",
    "\n",
    "LS_1_MAE_test =  mean_absolute_error(y_test, LS_1_pred)\n",
    "LS_1_MAE_train =  mean_absolute_error(y_train, LS_1_pred_train)\n",
    "\n",
    "LS_1_MSE_test = mean_squared_error(y_test, LS_1_pred)\n",
    "LS_1_MSE_train = mean_squared_error(y_train, LS_1_pred_train)\n",
    "print(\"Results :\")\n",
    "print(\"r2_score (Train) :\", LS_1_r2_train)\n",
    "print(\"MAE (Train):\", LS_1_MAE_train)\n",
    "print(\"MSE (Train):\", LS_1_MSE_train)\n",
    "print(\"\")\n",
    "print(\"r2_score (TEST):\",LS_1_R2)\n",
    "print(\"MAE (TEST):\", LS_1_MAE_test)\n",
    "print(\"MSE (TEST):\", LS_1_MSE_test)\n",
    "print(\"Coef:\",LS_1.coef_)\n",
    "print(\"Intercept:\",LS_1.intercept_)\n"
   ]
  },
  {
   "cell_type": "code",
   "execution_count": null,
   "id": "5e8d951f-24bc-442e-800f-2c3e2299599e",
   "metadata": {},
   "outputs": [],
   "source": []
  },
  {
   "cell_type": "code",
   "execution_count": null,
   "id": "c5baee95-9384-420a-b1a5-9c32d10db100",
   "metadata": {},
   "outputs": [],
   "source": []
  },
  {
   "cell_type": "markdown",
   "id": "fbc44974-7e27-44d6-b413-fa9c301eec36",
   "metadata": {},
   "source": [
    "### ElasticNet"
   ]
  },
  {
   "cell_type": "code",
   "execution_count": 261,
   "id": "6b1a3efb-9852-48d9-a28d-8e7c87ce6e85",
   "metadata": {},
   "outputs": [
    {
     "name": "stdout",
     "output_type": "stream",
     "text": [
      "Results :\n",
      "r2_score (Train) : 0.25352276664954587\n",
      "MAE (Train): 8010.873228641949\n",
      "MSE (Train): 112221157.92581736\n",
      "\n",
      "r2_score (TEST): 0.2546620015559614\n",
      "MAE (TEST): 9303.165389228277\n",
      "MSE (TEST): 141796973.9541448\n",
      "Coef: [  70.96238228  -41.77160271  902.92328926  -33.32033458   -3.22590782\n",
      " 1025.42137579 2109.75226948]\n",
      "Intercept: 75316.06837342706\n"
     ]
    }
   ],
   "source": [
    "EL_1 = ElasticNet(alpha=5)\n",
    "EL_1.fit(x_train,y_train)\n",
    "EL_1_pred = EL_1.predict(x_test)\n",
    "EL_1_pred_train = EL_1.predict(x_train)\n",
    "\n",
    "EL_1_R2 = (r2_score(y_test, EL_1_pred))\n",
    "EL_1_r2_train = r2_score(y_train, EL_1_pred_train)\n",
    "\n",
    "EL_1_MAE_test =  mean_absolute_error(y_test, EL_1_pred)\n",
    "EL_1_MAE_train =  mean_absolute_error(y_train, EL_1_pred_train)\n",
    "\n",
    "EL_1_MSE_test = mean_squared_error(y_test, EL_1_pred)\n",
    "EL_1_MSE_train = mean_squared_error(y_train, EL_1_pred_train)\n",
    "print(\"Results :\")\n",
    "print(\"r2_score (Train) :\", EL_1_r2_train)\n",
    "print(\"MAE (Train):\", EL_1_MAE_train)\n",
    "print(\"MSE (Train):\", EL_1_MSE_train)\n",
    "print(\"\")\n",
    "print(\"r2_score (TEST):\",EL_1_R2)\n",
    "print(\"MAE (TEST):\", EL_1_MAE_test)\n",
    "print(\"MSE (TEST):\", EL_1_MSE_test)\n",
    "print(\"Coef:\",EL_1.coef_)\n",
    "print(\"Intercept:\",EL_1.intercept_)\n"
   ]
  },
  {
   "cell_type": "code",
   "execution_count": null,
   "id": "860bc2fe-890c-4ecd-93df-04558394362e",
   "metadata": {},
   "outputs": [],
   "source": []
  },
  {
   "cell_type": "code",
   "execution_count": null,
   "id": "ec6dd75d-0b51-43ee-8fc9-e5c800950669",
   "metadata": {},
   "outputs": [],
   "source": []
  },
  {
   "cell_type": "code",
   "execution_count": null,
   "id": "5e1f1dd1-6f4a-4494-9e7f-979a47c0da7c",
   "metadata": {},
   "outputs": [],
   "source": []
  },
  {
   "cell_type": "code",
   "execution_count": null,
   "id": "ec777250-7711-4e86-8a27-2ab0bd87639b",
   "metadata": {},
   "outputs": [],
   "source": []
  },
  {
   "cell_type": "markdown",
   "id": "f6ccdb6b-4d74-4186-836e-954701634269",
   "metadata": {},
   "source": [
    "### Decision Tree Regressor"
   ]
  },
  {
   "cell_type": "code",
   "execution_count": 233,
   "id": "362ae007-e77c-43f3-8036-5260907db347",
   "metadata": {},
   "outputs": [
    {
     "name": "stdout",
     "output_type": "stream",
     "text": [
      "Results :\n",
      "r2_score (Train) : 0.6623644305533087\n",
      "MAE (Train): 5586.937609239464\n",
      "MSE (Train): 50758218.55971056\n",
      "\n",
      "r2_score (TEST): 0.5828604610642147\n",
      "MAE (TEST): 6894.158234676221\n",
      "MSE (TEST): 79358793.54225968\n"
     ]
    }
   ],
   "source": [
    "DT1 = DecisionTreeRegressor(max_depth=5)\n",
    "DT1.fit(x_train,y_train)\n",
    "DT1_pred = DT1.predict(x_test)\n",
    "DT1_pred_train = DT1.predict(x_train)\n",
    "\n",
    "DT1_R2 = (r2_score(y_test, DT1_pred))\n",
    "DT1_r2_train = r2_score(y_train, DT1_pred_train)\n",
    "\n",
    "DT1_MAE_test =  mean_absolute_error(y_test, DT1_pred)\n",
    "DT1_MAE_train =  mean_absolute_error(y_train, DT1_pred_train)\n",
    "\n",
    "DT1_MSE_test = mean_squared_error(y_test, DT1_pred)\n",
    "DT1_MSE_train = mean_squared_error(y_train, DT1_pred_train)\n",
    "print(\"Results :\")\n",
    "print(\"r2_score (Train) :\", DT1_r2_train)\n",
    "print(\"MAE (Train):\", DT1_MAE_train)\n",
    "print(\"MSE (Train):\", DT1_MSE_train)\n",
    "print(\"\")\n",
    "print(\"r2_score (TEST):\",DT1_R2)\n",
    "print(\"MAE (TEST):\", DT1_MAE_test)\n",
    "print(\"MSE (TEST):\", DT1_MSE_test)\n",
    "\n"
   ]
  },
  {
   "cell_type": "code",
   "execution_count": null,
   "id": "3fab5959-8ef6-4e53-8272-34b352052d68",
   "metadata": {},
   "outputs": [],
   "source": []
  },
  {
   "cell_type": "code",
   "execution_count": null,
   "id": "81d99d6f-3fb2-4ac7-87aa-cce31aa3a0a4",
   "metadata": {},
   "outputs": [],
   "source": []
  },
  {
   "cell_type": "markdown",
   "id": "509d5688-e281-4d5f-8369-7024b7546fac",
   "metadata": {},
   "source": [
    "### Random Forest"
   ]
  },
  {
   "cell_type": "code",
   "execution_count": 240,
   "id": "c6bd900f-c5f5-4525-ba4d-a5aed5c3ebdb",
   "metadata": {},
   "outputs": [
    {
     "name": "stdout",
     "output_type": "stream",
     "text": [
      "Results :\n",
      "r2_score (Train) : 0.9497180064454885\n",
      "MAE (Train): 2111.5245161290322\n",
      "MSE (Train): 7559110.02694524\n",
      "\n",
      "r2_score (TEST): 0.6363416258957195\n",
      "MAE (TEST): 6322.364245283019\n",
      "MSE (TEST): 69184258.83118711\n"
     ]
    }
   ],
   "source": [
    "RF1 = RandomForestRegressor(n_estimators=29)\n",
    "RF1.fit(x_train,y_train)\n",
    "RF1_pred = RF1.predict(x_test)\n",
    "RF1_pred_train = RF1.predict(x_train)\n",
    "\n",
    "RF1_R2 = (r2_score(y_test, RF1_pred))\n",
    "RF1_r2_train = r2_score(y_train, RF1_pred_train)\n",
    "\n",
    "RF1_MAE_test =  mean_absolute_error(y_test, RF1_pred)\n",
    "RF1_MAE_train =  mean_absolute_error(y_train, RF1_pred_train)\n",
    "\n",
    "RF1_MSE_test = mean_squared_error(y_test, RF1_pred)\n",
    "RF1_MSE_train = mean_squared_error(y_train, RF1_pred_train)\n",
    "print(\"Results :\")\n",
    "print(\"r2_score (Train) :\", RF1_r2_train)\n",
    "print(\"MAE (Train):\", RF1_MAE_train)\n",
    "print(\"MSE (Train):\", RF1_MSE_train)\n",
    "print(\"\")\n",
    "print(\"r2_score (TEST):\",RF1_R2)\n",
    "print(\"MAE (TEST):\", RF1_MAE_test)\n",
    "print(\"MSE (TEST):\", RF1_MSE_test)\n"
   ]
  },
  {
   "cell_type": "markdown",
   "id": "bc2ca3fc-cc9e-4cad-b0b8-760e1ff6e481",
   "metadata": {},
   "source": [
    "# now Training score is best. But it is over fitting. \n",
    "# we wiill eliminate this overfitting using Post Prunning technic.\n"
   ]
  },
  {
   "cell_type": "code",
   "execution_count": null,
   "id": "969b25a5-eeab-47f5-b43d-759ed63742ef",
   "metadata": {},
   "outputs": [],
   "source": []
  },
  {
   "cell_type": "code",
   "execution_count": null,
   "id": "9e32cd78-38bd-4b20-a312-e3ded837b854",
   "metadata": {},
   "outputs": [],
   "source": []
  },
  {
   "cell_type": "markdown",
   "id": "d70c612d-4551-494b-8478-5a7431442590",
   "metadata": {},
   "source": [
    "### Gradient Boosting Regrassor"
   ]
  },
  {
   "cell_type": "code",
   "execution_count": 235,
   "id": "fe818cda-f5a1-400b-8f40-774ec08fabfc",
   "metadata": {},
   "outputs": [
    {
     "name": "stdout",
     "output_type": "stream",
     "text": [
      "Results :\n",
      "r2_score (Train) : 0.7154142054321622\n",
      "MAE (Train): 5123.667937239189\n",
      "MSE (Train): 42783015.969956666\n",
      "\n",
      "r2_score (TEST): 0.616970151884693\n",
      "MAE (TEST): 6638.244534379012\n",
      "MSE (TEST): 72869588.710422\n"
     ]
    }
   ],
   "source": [
    "GB1 = GradientBoostingRegressor()\n",
    "GB1.fit(x_train,y_train)\n",
    "GB1_pred = GB1.predict(x_test)\n",
    "GB1_pred_train = GB1.predict(x_train)\n",
    "\n",
    "GB1_R2 = (r2_score(y_test, GB1_pred))\n",
    "GB1_r2_train = r2_score(y_train, GB1_pred_train)\n",
    "\n",
    "GB1_MAE_test =  mean_absolute_error(y_test, GB1_pred)\n",
    "GB1_MAE_train =  mean_absolute_error(y_train, GB1_pred_train)\n",
    "\n",
    "GB1_MSE_test = mean_squared_error(y_test, GB1_pred)\n",
    "GB1_MSE_train = mean_squared_error(y_train, GB1_pred_train)\n",
    "print(\"Results :\")\n",
    "print(\"r2_score (Train) :\", GB1_r2_train)\n",
    "print(\"MAE (Train):\", GB1_MAE_train)\n",
    "print(\"MSE (Train):\", GB1_MSE_train)\n",
    "print(\"\")\n",
    "print(\"r2_score (TEST):\",GB1_R2)\n",
    "print(\"MAE (TEST):\", GB1_MAE_test)\n",
    "print(\"MSE (TEST):\", GB1_MSE_test)\n"
   ]
  },
  {
   "cell_type": "code",
   "execution_count": null,
   "id": "0eec88fc-6ddb-4b9f-86d8-3c1372a11945",
   "metadata": {},
   "outputs": [],
   "source": []
  },
  {
   "cell_type": "markdown",
   "id": "a47078d8-a3e9-4bef-877f-d2be05f819b3",
   "metadata": {},
   "source": [
    "### XG- Boost Regressor"
   ]
  },
  {
   "cell_type": "code",
   "execution_count": 236,
   "id": "0db151e9-14b7-4d40-a073-7da408260449",
   "metadata": {},
   "outputs": [
    {
     "name": "stdout",
     "output_type": "stream",
     "text": [
      "Results :\n",
      "r2_score (Train) : 0.9880734323510023\n",
      "MAE (Train): 899.4892985346185\n",
      "MSE (Train): 1792972.60767598\n",
      "\n",
      "r2_score (TEST): 0.6494026000222659\n",
      "MAE (TEST): 6229.151668140723\n",
      "MSE (TEST): 66699471.24232958\n"
     ]
    }
   ],
   "source": [
    "XGB1 = xgb.XGBRegressor(objective='reg:squarederror', random_state=42)\n",
    "\n",
    "#Fit the model\n",
    "XGB1.fit(x_train,y_train)\n",
    "XGB1_pred = XGB1.predict(x_test)\n",
    "XGB1_pred_train = XGB1.predict(x_train)\n",
    "\n",
    "XGB1_R2 = (r2_score(y_test, XGB1_pred))\n",
    "XGB1_r2_train = r2_score(y_train, XGB1_pred_train)\n",
    "\n",
    "XGB1_MAE_test =  mean_absolute_error(y_test, XGB1_pred)\n",
    "XGB1_MAE_train =  mean_absolute_error(y_train, XGB1_pred_train)\n",
    "\n",
    "XGB1_MSE_test = mean_squared_error(y_test, XGB1_pred)\n",
    "XGB1_MSE_train = mean_squared_error(y_train, XGB1_pred_train)\n",
    "print(\"Results :\")\n",
    "print(\"r2_score (Train) :\", XGB1_r2_train)\n",
    "print(\"MAE (Train):\", XGB1_MAE_train)\n",
    "print(\"MSE (Train):\", XGB1_MSE_train)\n",
    "print(\"\")\n",
    "print(\"r2_score (TEST):\",XGB1_R2)\n",
    "print(\"MAE (TEST):\", XGB1_MAE_test)\n",
    "print(\"MSE (TEST):\", XGB1_MSE_test)\n"
   ]
  },
  {
   "cell_type": "code",
   "execution_count": null,
   "id": "7d8acebe-fe5c-4d2b-8a8b-ceb45b876be1",
   "metadata": {},
   "outputs": [],
   "source": []
  },
  {
   "cell_type": "markdown",
   "id": "f2bc06b4-d6f5-4c9c-a8c1-c4dd804beba1",
   "metadata": {},
   "source": [
    "### Grid Search CV\n"
   ]
  },
  {
   "cell_type": "code",
   "execution_count": 237,
   "id": "80fec81b-4cda-4eb8-b26d-15ab55356a57",
   "metadata": {},
   "outputs": [
    {
     "name": "stdout",
     "output_type": "stream",
     "text": [
      "Results :\n",
      "r2_score (Train) : 0.6062943355764511\n",
      "MAE (Train): 6019.499422414139\n",
      "MSE (Train): 59187478.960689805\n",
      "\n",
      "r2_score (TEST): 0.5949134132218526\n",
      "MAE (TEST): 6855.812444351174\n",
      "MSE (TEST): 77065777.29092808\n"
     ]
    }
   ],
   "source": [
    "#Define the parameter grid for max_depth\n",
    "param_grid = {'max_depth': [3, 5, 7, 10, None]}\n",
    "\n",
    "#Initialize GridSearchCV\n",
    "GRID_SEARCH_DT1 = GridSearchCV(estimator=DecisionTreeRegressor(random_state=42), param_grid=param_grid, cv=5, scoring='r2')\n",
    "\n",
    "#Fit GridSearchCV\n",
    "GRID_SEARCH_DT1 .fit(x_train,y_train)\n",
    "GRID_SEARCH_DT1_pred = GRID_SEARCH_DT1 .predict(x_test)\n",
    "GRID_SEARCH_DT1_pred_train = GRID_SEARCH_DT1 .predict(x_train)\n",
    "\n",
    "GRID_SEARCH_DT1_R2 = (r2_score(y_test, GRID_SEARCH_DT1_pred))\n",
    "GRID_SEARCH_DT1_r2_train = r2_score(y_train, GRID_SEARCH_DT1_pred_train)\n",
    "\n",
    "GRID_SEARCH_DT1_MAE_test =  mean_absolute_error(y_test, GRID_SEARCH_DT1_pred)\n",
    "GRID_SEARCH_DT1_MAE_train =  mean_absolute_error(y_train, GRID_SEARCH_DT1_pred_train)\n",
    "\n",
    "GRID_SEARCH_DT1_MSE_test = mean_squared_error(y_test, GRID_SEARCH_DT1_pred)\n",
    "GRID_SEARCH_DT1_MSE_train = mean_squared_error(y_train, GRID_SEARCH_DT1_pred_train)\n",
    "print(\"Results :\")\n",
    "print(\"r2_score (Train) :\", GRID_SEARCH_DT1_r2_train)\n",
    "print(\"MAE (Train):\", GRID_SEARCH_DT1_MAE_train)\n",
    "print(\"MSE (Train):\", GRID_SEARCH_DT1_MSE_train)\n",
    "print(\"\")\n",
    "print(\"r2_score (TEST):\",GRID_SEARCH_DT1_R2)\n",
    "print(\"MAE (TEST):\", GRID_SEARCH_DT1_MAE_test)\n",
    "print(\"MSE (TEST):\", GRID_SEARCH_DT1_MSE_test)\n"
   ]
  },
  {
   "cell_type": "markdown",
   "id": "90fd3c7e-a8e9-4b42-a972-70ec7a9ea4f2",
   "metadata": {},
   "source": [
    "### KNN"
   ]
  },
  {
   "cell_type": "code",
   "execution_count": 238,
   "id": "cbb1bdde-325a-4874-9780-b2c9c820f952",
   "metadata": {},
   "outputs": [
    {
     "name": "stdout",
     "output_type": "stream",
     "text": [
      "Results :\n",
      "r2_score (Train) : 0.6437271069333492\n",
      "MAE (Train): 5737.57603686636\n",
      "MSE (Train): 53560048.19875078\n",
      "\n",
      "r2_score (TEST): 0.6050524251723217\n",
      "MAE (TEST): 7019.897574123989\n",
      "MSE (TEST): 75136878.97035041\n"
     ]
    }
   ],
   "source": [
    "KNN1 = KNeighborsRegressor(n_neighbors=7)\n",
    "KNN1.fit(x_train,y_train)\n",
    "KNN1_pred = KNN1.predict(x_test)\n",
    "KNN1_pred_train = KNN1.predict(x_train)\n",
    "\n",
    "KNN1_R2 = (r2_score(y_test, KNN1_pred))\n",
    "KNN1_r2_train = r2_score(y_train, KNN1_pred_train)\n",
    "\n",
    "KNN1_MAE_test =  mean_absolute_error(y_test, KNN1_pred)\n",
    "KNN1_MAE_train =  mean_absolute_error(y_train, KNN1_pred_train)\n",
    "\n",
    "KNN1_MSE_test = mean_squared_error(y_test, KNN1_pred)\n",
    "KNN1_MSE_train = mean_squared_error(y_train, KNN1_pred_train)\n",
    "print(\"Results :\")\n",
    "print(\"r2_score (Train) :\", KNN1_r2_train)\n",
    "print(\"MAE (Train):\", KNN1_MAE_train)\n",
    "print(\"MSE (Train):\", KNN1_MSE_train)\n",
    "print(\"\")\n",
    "print(\"r2_score (TEST):\",KNN1_R2)\n",
    "print(\"MAE (TEST):\", KNN1_MAE_test)\n",
    "print(\"MSE (TEST):\", KNN1_MSE_test)\n"
   ]
  },
  {
   "cell_type": "code",
   "execution_count": null,
   "id": "48b3575f-5b54-4eaa-942a-501626d18f60",
   "metadata": {},
   "outputs": [],
   "source": []
  },
  {
   "cell_type": "code",
   "execution_count": null,
   "id": "1a67f257-57f8-4bd6-8198-621121fb35df",
   "metadata": {},
   "outputs": [],
   "source": []
  },
  {
   "cell_type": "markdown",
   "id": "8067e372-48e9-4a52-b485-d6753f64e520",
   "metadata": {},
   "source": [
    "## Visual Representation of the all the model's accuracy R2 with training of 90% data of dataset."
   ]
  },
  {
   "cell_type": "code",
   "execution_count": null,
   "id": "48c4f6f1-edd5-48ec-8c24-271ec3e2a751",
   "metadata": {},
   "outputs": [],
   "source": []
  },
  {
   "cell_type": "code",
   "execution_count": 239,
   "id": "cc70a761-2aa4-4fec-b891-08cd1b67f448",
   "metadata": {},
   "outputs": [
    {
     "data": {
      "image/png": "[encoded data removed]",
      "text/plain": [
       "<Figure size 1200x800 with 1 Axes>"
      ]
     },
     "metadata": {},
     "output_type": "display_data"
    }
   ],
   "source": [
    "import matplotlib.pyplot as plt\n",
    "\n",
    "#Create a list of model names\n",
    "model_names2 = ['Linear Regression', 'Ridge Regression', 'Lasso Regression', 'Decision Tree', 'Random Forest', 'Gradient Boosting', 'XGBoost','GridSearchCV','KNeighbors']\n",
    "\n",
    "#Create a list of R-squared values for each model\n",
    "r2_values2 = [LRA_R2, RG_1_R2, LS_1_R2, DT1_R2, RF1_R2, GB1_R2, XGB1_R2, GRID_SEARCH_DT1_R2, KNN1_R2]\n",
    "\n",
    "#Create a bar chart\n",
    "plt.figure(figsize=(12, 8))\n",
    "plt.bar(model_names2, r2_values2)\n",
    "plt.xlabel('Models')\n",
    "plt.ylabel('R-squared')\n",
    "plt.title('Comparison of Regression Models (with Test size = 0.1)')\n",
    "plt.xticks(rotation=45)\n",
    "plt.show()"
   ]
  },
  {
   "cell_type": "code",
   "execution_count": null,
   "id": "90c8172d-68d6-463f-b625-b36ef60dbcb9",
   "metadata": {},
   "outputs": [],
   "source": []
  },
  {
   "cell_type": "code",
   "execution_count": null,
   "id": "d759b163-f1e6-477d-8a9c-b567ca20f184",
   "metadata": {},
   "outputs": [],
   "source": []
  },
  {
   "cell_type": "code",
   "execution_count": null,
   "id": "88d028b0-d7cf-48f8-af95-4f1c0f69350a",
   "metadata": {},
   "outputs": [],
   "source": []
  },
  {
   "cell_type": "markdown",
   "id": "f141fdb1-2903-4997-9716-e785fcc15d49",
   "metadata": {},
   "source": [
    "### To compare the performance of different machine learning models, we'll focus on the R-squared (r2_score) metric, which measures the goodness of fit of the models. A higher R-squared indicates a better fit to the data. Additionally, we'll consider Mean Absolute Error (MAE) and Mean Squared Error (MSE) for reference.s:"
   ]
  },
  {
   "cell_type": "markdown",
   "id": "5792d1a8-eac2-45b1-afaf-36d963a1292d",
   "metadata": {},
   "source": [
    "## Here is a summary of the model performance in the 2 scenarios:"
   ]
  },
  {
   "cell_type": "markdown",
   "id": "3da64d6e-20b2-4b99-8573-99dd5e027269",
   "metadata": {},
   "source": [
    "## 1st Scenario - Featured scaled data and Test Data size = 0.2\n",
    "\n",
    "    Linear Regression =  59.33515097281485\n",
    "    Lasso Regression =  59.33166424401441\n",
    "    Ridge Regression =  63.61715916387061\n",
    "    Decision Tree =  58.28604610642147\n",
    "    Random Forest =  63.68581759785632\n",
    "    Gradient Boosting =  61.70409468947199\n",
    "    XG - Boost  =  64.30266389902687\n",
    "    Grid Search CV  =  59.491341322185264\n",
    "    KNN  =  56.20747120438985\r\n",
    "\n"
   ]
  },
  {
   "cell_type": "code",
   "execution_count": null,
   "id": "37522115-e38b-44d2-b439-32411a93b76e",
   "metadata": {},
   "outputs": [],
   "source": []
  },
  {
   "cell_type": "markdown",
   "id": "c8acf697-1ef0-46c6-a56d-820f0cab39ea",
   "metadata": {},
   "source": [
    "## 2nd Scenario - Featured scaled data and Test Data size = 0.1\n",
    "\n",
    "    Linear Regression  =  63.63230307340062\n",
    "    Lasso Regression  =  63.62811813300671\n",
    "    Ridge Regression  =  63.61715916387061\n",
    "    Decision Tree  =  62.71767830775723\n",
    "    Random Forest  =  68.36594562984222\n",
    "    Gradient Boosting  =  67.6649218683902\n",
    "    XG - Boost  =  64.30266389902687\n",
    "    Grid Search CV  =  63.007313041950596\n",
    "    KNN  =  63.66460502484027"
   ]
  },
  {
   "cell_type": "markdown",
   "id": "3872b0ca-033c-420a-8e75-b68d9d41469d",
   "metadata": {},
   "source": [
    "# Ans for Q.4 : - \n",
    "\n",
    "## The Gradient Boosting Regressor And decision Tree after post-prunning is best choice after comparing all the other factors.\n",
    "## Each tree is trained sequentially, with each new tree aiming to correct the errors of the previous ones.\n",
    "## The algorithm minimizes a specified loss function through gradient descent, which helps in refining the predictions iteratively.\n",
    "## Gradient Boosting can include regularization techniques such as L1 (Lasso) and L2 (Ridge) regularization, which help prevent overfitting and improve generalization.\n",
    "## it supports hypertunning parameter to increase accuracy."
   ]
  },
  {
   "cell_type": "code",
   "execution_count": null,
   "id": "7a801aa3-660d-4d15-95ea-b0be0e82093a",
   "metadata": {},
   "outputs": [],
   "source": []
  },
  {
   "cell_type": "markdown",
   "id": "13446d8f-ce7a-48db-994f-de4671ca520c",
   "metadata": {},
   "source": [
    "# Ans For Q.5 :-\n",
    "## To enhance the performance of the selected model:\n",
    "\n",
    "## Hyperparameter Tuning: Use techniques like Grid Search or Random Search to find optimal parameters.\n",
    "## Feature Engineering: Create new features or interactions between existing features based on domain knowledge.\n",
    "## Cross-Validation: Implement k-fold cross-validation to ensure model robustness.\n",
    "## Ensemble Methods: Combine predictions from multiple models for better accuracy.\n",
    "## More Data: If possible, increase the size of the training dataset to improve generalization."
   ]
  },
  {
   "cell_type": "code",
   "execution_count": null,
   "id": "dcc96b5a-4c0a-4e91-a0ce-497a4ce19a90",
   "metadata": {},
   "outputs": [],
   "source": []
  },
  {
   "cell_type": "code",
   "execution_count": null,
   "id": "82f32706-b951-4a51-9574-d8986305d301",
   "metadata": {},
   "outputs": [],
   "source": []
  },
  {
   "cell_type": "code",
   "execution_count": null,
   "id": "131d3e1f-9fba-4dba-b283-f2857d7bd8ba",
   "metadata": {},
   "outputs": [],
   "source": []
  },
  {
   "cell_type": "code",
   "execution_count": null,
   "id": "0c90a767-de7d-49de-808f-f3a7934d80d0",
   "metadata": {},
   "outputs": [],
   "source": []
  }
 ],
 "metadata": {
  "kernelspec": {
   "display_name": "Python 3 (ipykernel)",
   "language": "python",
   "name": "python3"
  },
  "language_info": {
   "codemirror_mode": {
    "name": "ipython",
    "version": 3
   },
   "file_extension": ".py",
   "mimetype": "text/x-python",
   "name": "python",
   "nbconvert_exporter": "python",
   "pygments_lexer": "ipython3",
   "version": "3.12.4"
  }
 },
 "nbformat": 4,
 "nbformat_minor": 5
}
